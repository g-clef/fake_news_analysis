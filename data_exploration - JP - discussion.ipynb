{
 "cells": [
  {
   "cell_type": "markdown",
   "id": "known-glucose",
   "metadata": {},
   "source": [
    "# Data Set Exploration"
   ]
  },
  {
   "cell_type": "code",
   "execution_count": 52,
   "id": "chronic-multiple",
   "metadata": {},
   "outputs": [],
   "source": [
    "import numpy as np\n",
    "import pandas as pd\n",
    "import itertools\n",
    "\n",
    "import matplotlib.pyplot as plt\n",
    "import numpy as np\n",
    "from matplotlib import colors\n",
    "from matplotlib.ticker import PercentFormatter"
   ]
  },
  {
   "cell_type": "markdown",
   "id": "solar-pointer",
   "metadata": {},
   "source": [
    "# `news.csv` Data Set\n",
    "\n",
    "There are 4 columns: \n",
    "\n",
    "- article id\n",
    "- article title\n",
    "- article text\n",
    "- lable\n",
    " \n",
    "How many rows? What does the data look like?"
   ]
  },
  {
   "cell_type": "code",
   "execution_count": 53,
   "id": "touched-entrance",
   "metadata": {},
   "outputs": [
    {
     "name": "stdout",
     "output_type": "stream",
     "text": [
      "shape of the dataset: (6335, 4) \n",
      "\n"
     ]
    },
    {
     "data": {
      "text/html": [
       "<div>\n",
       "<style scoped>\n",
       "    .dataframe tbody tr th:only-of-type {\n",
       "        vertical-align: middle;\n",
       "    }\n",
       "\n",
       "    .dataframe tbody tr th {\n",
       "        vertical-align: top;\n",
       "    }\n",
       "\n",
       "    .dataframe thead th {\n",
       "        text-align: right;\n",
       "    }\n",
       "</style>\n",
       "<table border=\"1\" class=\"dataframe\">\n",
       "  <thead>\n",
       "    <tr style=\"text-align: right;\">\n",
       "      <th></th>\n",
       "      <th>Unnamed: 0</th>\n",
       "      <th>title</th>\n",
       "      <th>text</th>\n",
       "      <th>label</th>\n",
       "    </tr>\n",
       "  </thead>\n",
       "  <tbody>\n",
       "    <tr>\n",
       "      <th>0</th>\n",
       "      <td>8476</td>\n",
       "      <td>You Can Smell Hillary’s Fear</td>\n",
       "      <td>Daniel Greenfield, a Shillman Journalism Fello...</td>\n",
       "      <td>FAKE</td>\n",
       "    </tr>\n",
       "    <tr>\n",
       "      <th>1</th>\n",
       "      <td>10294</td>\n",
       "      <td>Watch The Exact Moment Paul Ryan Committed Pol...</td>\n",
       "      <td>Google Pinterest Digg Linkedin Reddit Stumbleu...</td>\n",
       "      <td>FAKE</td>\n",
       "    </tr>\n",
       "    <tr>\n",
       "      <th>2</th>\n",
       "      <td>3608</td>\n",
       "      <td>Kerry to go to Paris in gesture of sympathy</td>\n",
       "      <td>U.S. Secretary of State John F. Kerry said Mon...</td>\n",
       "      <td>REAL</td>\n",
       "    </tr>\n",
       "    <tr>\n",
       "      <th>3</th>\n",
       "      <td>10142</td>\n",
       "      <td>Bernie supporters on Twitter erupt in anger ag...</td>\n",
       "      <td>— Kaydee King (@KaydeeKing) November 9, 2016 T...</td>\n",
       "      <td>FAKE</td>\n",
       "    </tr>\n",
       "    <tr>\n",
       "      <th>4</th>\n",
       "      <td>875</td>\n",
       "      <td>The Battle of New York: Why This Primary Matters</td>\n",
       "      <td>It's primary day in New York and front-runners...</td>\n",
       "      <td>REAL</td>\n",
       "    </tr>\n",
       "    <tr>\n",
       "      <th>5</th>\n",
       "      <td>6903</td>\n",
       "      <td>Tehran, USA</td>\n",
       "      <td>\\nI’m not an immigrant, but my grandparents ...</td>\n",
       "      <td>FAKE</td>\n",
       "    </tr>\n",
       "    <tr>\n",
       "      <th>6</th>\n",
       "      <td>7341</td>\n",
       "      <td>Girl Horrified At What She Watches Boyfriend D...</td>\n",
       "      <td>Share This Baylee Luciani (left), Screenshot o...</td>\n",
       "      <td>FAKE</td>\n",
       "    </tr>\n",
       "    <tr>\n",
       "      <th>7</th>\n",
       "      <td>95</td>\n",
       "      <td>‘Britain’s Schindler’ Dies at 106</td>\n",
       "      <td>A Czech stockbroker who saved more than 650 Je...</td>\n",
       "      <td>REAL</td>\n",
       "    </tr>\n",
       "    <tr>\n",
       "      <th>8</th>\n",
       "      <td>4869</td>\n",
       "      <td>Fact check: Trump and Clinton at the 'commande...</td>\n",
       "      <td>Hillary Clinton and Donald Trump made some ina...</td>\n",
       "      <td>REAL</td>\n",
       "    </tr>\n",
       "    <tr>\n",
       "      <th>9</th>\n",
       "      <td>2909</td>\n",
       "      <td>Iran reportedly makes new push for uranium con...</td>\n",
       "      <td>Iranian negotiators reportedly have made a las...</td>\n",
       "      <td>REAL</td>\n",
       "    </tr>\n",
       "  </tbody>\n",
       "</table>\n",
       "</div>"
      ],
      "text/plain": [
       "   Unnamed: 0                                              title  \\\n",
       "0        8476                       You Can Smell Hillary’s Fear   \n",
       "1       10294  Watch The Exact Moment Paul Ryan Committed Pol...   \n",
       "2        3608        Kerry to go to Paris in gesture of sympathy   \n",
       "3       10142  Bernie supporters on Twitter erupt in anger ag...   \n",
       "4         875   The Battle of New York: Why This Primary Matters   \n",
       "5        6903                                        Tehran, USA   \n",
       "6        7341  Girl Horrified At What She Watches Boyfriend D...   \n",
       "7          95                  ‘Britain’s Schindler’ Dies at 106   \n",
       "8        4869  Fact check: Trump and Clinton at the 'commande...   \n",
       "9        2909  Iran reportedly makes new push for uranium con...   \n",
       "\n",
       "                                                text label  \n",
       "0  Daniel Greenfield, a Shillman Journalism Fello...  FAKE  \n",
       "1  Google Pinterest Digg Linkedin Reddit Stumbleu...  FAKE  \n",
       "2  U.S. Secretary of State John F. Kerry said Mon...  REAL  \n",
       "3  — Kaydee King (@KaydeeKing) November 9, 2016 T...  FAKE  \n",
       "4  It's primary day in New York and front-runners...  REAL  \n",
       "5    \\nI’m not an immigrant, but my grandparents ...  FAKE  \n",
       "6  Share This Baylee Luciani (left), Screenshot o...  FAKE  \n",
       "7  A Czech stockbroker who saved more than 650 Je...  REAL  \n",
       "8  Hillary Clinton and Donald Trump made some ina...  REAL  \n",
       "9  Iranian negotiators reportedly have made a las...  REAL  "
      ]
     },
     "execution_count": 53,
     "metadata": {},
     "output_type": "execute_result"
    }
   ],
   "source": [
    "#Read the data\n",
    "df=pd.read_csv('data/news.csv')\n",
    "\n",
    "#Get shape and head\n",
    "shape = df.shape\n",
    "print(f\"shape of the dataset: {shape} \\n\")\n",
    "\n",
    "df.head(10)"
   ]
  },
  {
   "cell_type": "markdown",
   "id": "thousand-delhi",
   "metadata": {},
   "source": [
    "# Homework\n",
    "\n",
    "### Explore the data\n",
    "\n",
    "Create histograms to show the distributions of the different count columns. Also show histograms for the counts separated by fake and real news. Add markdown cells to the notebook with your observations about the distributions. Are there any differences between fake and real? What about word count vs character count?\n",
    "\n",
    "If you find something in the data that seems interesting that you want to explore add that to the notebook along with your observations.\n",
    "\n",
    "Calculate the min and max character and word counts for title and text columns.\n",
    "\n",
    "Calculate the total number of distinct words across all articles. Note the difference between the max words in the text and the total number of unique words in the dataset.\n",
    "\n",
    "### TFIDF - Term Frequency Inverse Document Frequency\n",
    "\n",
    "Here is a good page that describes TFIDF and how to calculate it: http://www.tfidf.com/\n",
    "\n",
    "Calculate the TFIDF scores for the following words: smell, the, this, washington, money, road, and\n",
    "\n",
    "How are their scores different from each other? What does this mean?\n",
    "\n",
    "Extra credit if you have time: what word in the articles has the highest and lowest TFIDF score?\n",
    "\n",
    "### Stop Words\n",
    "\n",
    "Here is a page that describes what are known as \"stop words\":\n",
    "https://nlp.stanford.edu/IR-book/html/htmledition/dropping-common-terms-stop-words-1.html\n",
    "\n",
    "Based on this, do you expect stop words to have high or low TFIDF scores?"
   ]
  },
  {
   "cell_type": "markdown",
   "id": "deluxe-december",
   "metadata": {},
   "source": [
    "# Explore the character and word count distributions "
   ]
  },
  {
   "cell_type": "code",
   "execution_count": 54,
   "id": "agricultural-discovery",
   "metadata": {},
   "outputs": [
    {
     "data": {
      "text/html": [
       "<div>\n",
       "<style scoped>\n",
       "    .dataframe tbody tr th:only-of-type {\n",
       "        vertical-align: middle;\n",
       "    }\n",
       "\n",
       "    .dataframe tbody tr th {\n",
       "        vertical-align: top;\n",
       "    }\n",
       "\n",
       "    .dataframe thead th {\n",
       "        text-align: right;\n",
       "    }\n",
       "</style>\n",
       "<table border=\"1\" class=\"dataframe\">\n",
       "  <thead>\n",
       "    <tr style=\"text-align: right;\">\n",
       "      <th></th>\n",
       "      <th>Unnamed: 0</th>\n",
       "      <th>title</th>\n",
       "      <th>text</th>\n",
       "      <th>label</th>\n",
       "      <th>text_len</th>\n",
       "      <th>text_cnt</th>\n",
       "    </tr>\n",
       "  </thead>\n",
       "  <tbody>\n",
       "    <tr>\n",
       "      <th>1851</th>\n",
       "      <td>5752</td>\n",
       "      <td>America’s Senator Jeff Sessions Warns of Worse...</td>\n",
       "      <td></td>\n",
       "      <td>FAKE</td>\n",
       "      <td>1</td>\n",
       "      <td>2</td>\n",
       "    </tr>\n",
       "    <tr>\n",
       "      <th>6064</th>\n",
       "      <td>6127</td>\n",
       "      <td>Radio Derb: Peak White Guilt, PC Now To The LE...</td>\n",
       "      <td></td>\n",
       "      <td>FAKE</td>\n",
       "      <td>1</td>\n",
       "      <td>2</td>\n",
       "    </tr>\n",
       "    <tr>\n",
       "      <th>5581</th>\n",
       "      <td>6800</td>\n",
       "      <td>Automation: Robots from Korea to America Are R...</td>\n",
       "      <td></td>\n",
       "      <td>FAKE</td>\n",
       "      <td>1</td>\n",
       "      <td>2</td>\n",
       "    </tr>\n",
       "    <tr>\n",
       "      <th>6175</th>\n",
       "      <td>7043</td>\n",
       "      <td>Hillary’s High Crimes &amp; Misdemeanors Threaten ...</td>\n",
       "      <td></td>\n",
       "      <td>FAKE</td>\n",
       "      <td>1</td>\n",
       "      <td>2</td>\n",
       "    </tr>\n",
       "    <tr>\n",
       "      <th>5088</th>\n",
       "      <td>8875</td>\n",
       "      <td>Huma Abedin’s Muslim Dad</td>\n",
       "      <td></td>\n",
       "      <td>FAKE</td>\n",
       "      <td>1</td>\n",
       "      <td>2</td>\n",
       "    </tr>\n",
       "    <tr>\n",
       "      <th>1941</th>\n",
       "      <td>7525</td>\n",
       "      <td>Putins Army is coming for World war 3 against ...</td>\n",
       "      <td></td>\n",
       "      <td>FAKE</td>\n",
       "      <td>1</td>\n",
       "      <td>2</td>\n",
       "    </tr>\n",
       "    <tr>\n",
       "      <th>4142</th>\n",
       "      <td>6311</td>\n",
       "      <td>Radio Derb transcript for October 29th is up: ...</td>\n",
       "      <td></td>\n",
       "      <td>FAKE</td>\n",
       "      <td>1</td>\n",
       "      <td>2</td>\n",
       "    </tr>\n",
       "    <tr>\n",
       "      <th>2426</th>\n",
       "      <td>5776</td>\n",
       "      <td>Radio Derb Transcript For October 21 Up: The M...</td>\n",
       "      <td></td>\n",
       "      <td>FAKE</td>\n",
       "      <td>1</td>\n",
       "      <td>2</td>\n",
       "    </tr>\n",
       "    <tr>\n",
       "      <th>2832</th>\n",
       "      <td>6733</td>\n",
       "      <td>The Comey Confrontation: In Our New Third-Worl...</td>\n",
       "      <td></td>\n",
       "      <td>FAKE</td>\n",
       "      <td>1</td>\n",
       "      <td>2</td>\n",
       "    </tr>\n",
       "    <tr>\n",
       "      <th>3511</th>\n",
       "      <td>8240</td>\n",
       "      <td>Democrats Playing Class Card To Split the Whit...</td>\n",
       "      <td></td>\n",
       "      <td>FAKE</td>\n",
       "      <td>1</td>\n",
       "      <td>2</td>\n",
       "    </tr>\n",
       "  </tbody>\n",
       "</table>\n",
       "</div>"
      ],
      "text/plain": [
       "      Unnamed: 0                                              title text  \\\n",
       "1851        5752  America’s Senator Jeff Sessions Warns of Worse...        \n",
       "6064        6127  Radio Derb: Peak White Guilt, PC Now To The LE...        \n",
       "5581        6800  Automation: Robots from Korea to America Are R...        \n",
       "6175        7043  Hillary’s High Crimes & Misdemeanors Threaten ...        \n",
       "5088        8875                           Huma Abedin’s Muslim Dad        \n",
       "1941        7525  Putins Army is coming for World war 3 against ...        \n",
       "4142        6311  Radio Derb transcript for October 29th is up: ...        \n",
       "2426        5776  Radio Derb Transcript For October 21 Up: The M...        \n",
       "2832        6733  The Comey Confrontation: In Our New Third-Worl...        \n",
       "3511        8240  Democrats Playing Class Card To Split the Whit...        \n",
       "\n",
       "     label  text_len  text_cnt  \n",
       "1851  FAKE         1         2  \n",
       "6064  FAKE         1         2  \n",
       "5581  FAKE         1         2  \n",
       "6175  FAKE         1         2  \n",
       "5088  FAKE         1         2  \n",
       "1941  FAKE         1         2  \n",
       "4142  FAKE         1         2  \n",
       "2426  FAKE         1         2  \n",
       "2832  FAKE         1         2  \n",
       "3511  FAKE         1         2  "
      ]
     },
     "execution_count": 54,
     "metadata": {},
     "output_type": "execute_result"
    }
   ],
   "source": [
    "df['text_len'] = df['text'].str.len()\n",
    "df['text_cnt'] = df['text'].str.count(' ') + 1\n",
    "df.sort_values('text_len', ascending=True).head(10)"
   ]
  },
  {
   "cell_type": "code",
   "execution_count": 55,
   "id": "consolidated-accent",
   "metadata": {},
   "outputs": [
    {
     "name": "stdout",
     "output_type": "stream",
     "text": [
      "\n",
      "    max(text_len): 115372\n",
      "    min(text_len): 1 \n",
      "    max(freq_text_len): 59\n",
      "    min(freq_text_len): 1\n",
      "    count(distinct freq_text_len): 4562\n",
      "\n"
     ]
    }
   ],
   "source": [
    "max_text_len = max(df.text_len)\n",
    "min_text_len = min(df.text_len)\n",
    "max_freq_text_len = df.text_len.value_counts().max()\n",
    "min_freq_text_len = df.text_len.value_counts().min()\n",
    "cnt_distinct_text_len = df.text_len.nunique()\n",
    "\n",
    "print(\"\"\"\n",
    "    max(text_len): {0}\n",
    "    min(text_len): {1} \n",
    "    max(freq_text_len): {2}\n",
    "    min(freq_text_len): {3}\n",
    "    count(distinct freq_text_len): {4}\n",
    "\"\"\".format(max_text_len, min_text_len, max_freq_text_len, min_freq_text_len, cnt_distinct_text_len))"
   ]
  },
  {
   "cell_type": "code",
   "execution_count": 56,
   "id": "requested-globe",
   "metadata": {},
   "outputs": [
    {
     "data": {
      "image/png": "[encoded data removed]",
      "text/plain": [
       "<Figure size 864x576 with 1 Axes>"
      ]
     },
     "metadata": {
      "needs_background": "light"
     },
     "output_type": "display_data"
    }
   ],
   "source": [
    "bins = cnt_distinct_text_len\n",
    "plt.figure(figsize=(12, 8))\n",
    "plt.hist(df.text_len, bins=bins)\n",
    "plt.ylim(min_freq_text_len, max_freq_text_len)\n",
    "plt.xlabel('text char count')\n",
    "plt.ylabel('frequency')\n",
    "plt.title('Text Char Count Histogram')\n",
    "plt.grid(True)\n",
    "plt.show()"
   ]
  },
  {
   "cell_type": "markdown",
   "id": "dramatic-diploma",
   "metadata": {},
   "source": [
    "## Histogram Bin Sizes\n",
    "\n",
    "The distinct count of text lengths is kind of arbitrary and can hide some distribution details depending on how unique the values are or not. \n",
    "\n",
    "I like to either use the max value of the x-axis as my bin size when the max value is less than a couple hundred. This way each individual count gets it's own bucket. But if the x-axis is quite large, like this example, I'll play around with a much smaller value, like 100. If 100 seems too course grained, play around with the bin size to get a good level of detail"
   ]
  },
  {
   "cell_type": "markdown",
   "id": "greek-fifth",
   "metadata": {},
   "source": [
    "## Observations\n",
    "\n",
    "Looks like there are some outliers in this data. To better understand the distribution of data we're dealing with maybe we could remove the outliers and replot the data\n",
    "\n"
   ]
  },
  {
   "cell_type": "code",
   "execution_count": 57,
   "id": "second-speed",
   "metadata": {},
   "outputs": [
    {
     "data": {
      "text/html": [
       "<div>\n",
       "<style scoped>\n",
       "    .dataframe tbody tr th:only-of-type {\n",
       "        vertical-align: middle;\n",
       "    }\n",
       "\n",
       "    .dataframe tbody tr th {\n",
       "        vertical-align: top;\n",
       "    }\n",
       "\n",
       "    .dataframe thead tr th {\n",
       "        text-align: left;\n",
       "    }\n",
       "\n",
       "    .dataframe thead tr:last-of-type th {\n",
       "        text-align: right;\n",
       "    }\n",
       "</style>\n",
       "<table border=\"1\" class=\"dataframe\">\n",
       "  <thead>\n",
       "    <tr>\n",
       "      <th></th>\n",
       "      <th>title</th>\n",
       "    </tr>\n",
       "    <tr>\n",
       "      <th></th>\n",
       "      <th>count</th>\n",
       "    </tr>\n",
       "    <tr>\n",
       "      <th>text_len</th>\n",
       "      <th></th>\n",
       "    </tr>\n",
       "  </thead>\n",
       "  <tbody>\n",
       "    <tr>\n",
       "      <th>1</th>\n",
       "      <td>36</td>\n",
       "    </tr>\n",
       "    <tr>\n",
       "      <th>12</th>\n",
       "      <td>1</td>\n",
       "    </tr>\n",
       "    <tr>\n",
       "      <th>13</th>\n",
       "      <td>1</td>\n",
       "    </tr>\n",
       "    <tr>\n",
       "      <th>17</th>\n",
       "      <td>1</td>\n",
       "    </tr>\n",
       "    <tr>\n",
       "      <th>34</th>\n",
       "      <td>1</td>\n",
       "    </tr>\n",
       "  </tbody>\n",
       "</table>\n",
       "</div>"
      ],
      "text/plain": [
       "         title\n",
       "         count\n",
       "text_len      \n",
       "1           36\n",
       "12           1\n",
       "13           1\n",
       "17           1\n",
       "34           1"
      ]
     },
     "execution_count": 57,
     "metadata": {},
     "output_type": "execute_result"
    }
   ],
   "source": [
    "df[['title', 'text_len']].groupby(['text_len']).agg(['count']).sort_values('text_len', ascending=True).head(5)"
   ]
  },
  {
   "cell_type": "markdown",
   "id": "sixth-surface",
   "metadata": {},
   "source": [
    "A 1 character article doesn't make much sense, so lets filter those out"
   ]
  },
  {
   "cell_type": "code",
   "execution_count": 58,
   "id": "biological-treasure",
   "metadata": {},
   "outputs": [
    {
     "name": "stdout",
     "output_type": "stream",
     "text": [
      "before: (6335, 6). after filtering: (6299, 6)\n"
     ]
    }
   ],
   "source": [
    "filtered_df = df[df['text_len'] > 1]\n",
    "\n",
    "print(f'before: {df.shape}. after filtering: {filtered_df.shape}')"
   ]
  },
  {
   "cell_type": "markdown",
   "id": "chemical-plasma",
   "metadata": {},
   "source": [
    "What about really long arcitles? Like those greater than 20,000 words"
   ]
  },
  {
   "cell_type": "code",
   "execution_count": 59,
   "id": "thick-mambo",
   "metadata": {},
   "outputs": [
    {
     "name": "stdout",
     "output_type": "stream",
     "text": [
      "after removing 1 word articles: (106, 6)\n"
     ]
    }
   ],
   "source": [
    "long_articles_df = df[df['text_len'] > 20000]\n",
    "print(f'after removing 1 word articles: {long_articles_df.shape}')"
   ]
  },
  {
   "cell_type": "markdown",
   "id": "comparative-medicare",
   "metadata": {},
   "source": [
    "Only 106 articles are super long, so lets filter those out and see what the distribution looks like now"
   ]
  },
  {
   "cell_type": "code",
   "execution_count": 60,
   "id": "immune-louis",
   "metadata": {},
   "outputs": [
    {
     "name": "stdout",
     "output_type": "stream",
     "text": [
      "after removing articles > 20,000 word: (6193, 6)\n"
     ]
    }
   ],
   "source": [
    "filtered_df = filtered_df[filtered_df['text_len'] <= 20000]\n",
    "print(f'after removing articles > 20,000 word: {filtered_df.shape}')"
   ]
  },
  {
   "cell_type": "markdown",
   "id": "sustainable-milwaukee",
   "metadata": {},
   "source": [
    "Lets replot the data and see what it looks like"
   ]
  },
  {
   "cell_type": "code",
   "execution_count": 80,
   "id": "mental-child",
   "metadata": {},
   "outputs": [
    {
     "data": {
      "image/png": "[encoded data removed]",
      "text/plain": [
       "<Figure size 864x576 with 1 Axes>"
      ]
     },
     "metadata": {
      "needs_background": "light"
     },
     "output_type": "display_data"
    }
   ],
   "source": [
    "bins = 100\n",
    "plt.figure(figsize=(12, 8))\n",
    "plt.hist(filtered_df.text_len, bins=bins)\n",
    "# plt.ylim(0, max_freq_text_len)\n",
    "plt.xlabel('text char count')\n",
    "plt.ylabel('frequency')\n",
    "plt.title('Text Char Count Histogram')\n",
    "plt.grid(True)\n",
    "plt.show()"
   ]
  },
  {
   "cell_type": "markdown",
   "id": "celtic-valley",
   "metadata": {},
   "source": [
    "This give us a better view at the distribution of article char counts over the corpus of all articles\n",
    "\n",
    "Observations:\n",
    "- there is a large block of articles with relativly short char counts (the first bin)\n",
    "- if you remove those short char count articles, the distribution looks fairly normail, but right skewed distribution "
   ]
  },
  {
   "cell_type": "code",
   "execution_count": 91,
   "id": "happy-flavor",
   "metadata": {},
   "outputs": [
    {
     "data": {
      "image/png": "[encoded data removed]",
      "text/plain": [
       "<Figure size 864x576 with 1 Axes>"
      ]
     },
     "metadata": {
      "needs_background": "light"
     },
     "output_type": "display_data"
    }
   ],
   "source": [
    "tmp_df = filtered_df[filtered_df['text_len'] > 250]\n",
    "\n",
    "bins = 100\n",
    "plt.figure(figsize=(12, 8))\n",
    "plt.hist(tmp_df.text_len, bins=bins)\n",
    "# plt.ylim(0, max_freq_text_len)\n",
    "plt.xlabel('text char count')\n",
    "plt.ylabel('frequency')\n",
    "plt.title('Text Char Count Histogram')\n",
    "plt.grid(True)\n",
    "plt.show()"
   ]
  },
  {
   "cell_type": "code",
   "execution_count": 92,
   "id": "ignored-plasma",
   "metadata": {},
   "outputs": [
    {
     "data": {
      "image/png": "[encoded data removed]",
      "text/plain": [
       "<Figure size 864x576 with 1 Axes>"
      ]
     },
     "metadata": {
      "needs_background": "light"
     },
     "output_type": "display_data"
    }
   ],
   "source": [
    "tmp_df = filtered_df[filtered_df['text_len'] <= 250]\n",
    "\n",
    "bins = 100\n",
    "plt.figure(figsize=(12, 8))\n",
    "plt.hist(tmp_df.text_len, bins=bins)\n",
    "# plt.ylim(0, max_freq_text_len)\n",
    "plt.xlabel('text char count')\n",
    "plt.ylabel('frequency')\n",
    "plt.title('Text Char Count Histogram')\n",
    "plt.grid(True)\n",
    "plt.show()"
   ]
  },
  {
   "cell_type": "markdown",
   "id": "strategic-bookmark",
   "metadata": {},
   "source": [
    "## Why does this even matter?\n",
    "\n",
    "The plot where we filtered out really large articles and 1 char articles looked like there might be two different types of articles. Do we need two different solutions? One for longer in depth articles and one for short articles?"
   ]
  },
  {
   "cell_type": "code",
   "execution_count": null,
   "id": "plastic-immunology",
   "metadata": {},
   "outputs": [],
   "source": []
  },
  {
   "cell_type": "markdown",
   "id": "informational-crack",
   "metadata": {},
   "source": [
    "# Fake Vs. Real"
   ]
  },
  {
   "cell_type": "code",
   "execution_count": 103,
   "id": "upper-aaron",
   "metadata": {
    "scrolled": true
   },
   "outputs": [
    {
     "data": {
      "text/html": [
       "<div>\n",
       "<style scoped>\n",
       "    .dataframe tbody tr th:only-of-type {\n",
       "        vertical-align: middle;\n",
       "    }\n",
       "\n",
       "    .dataframe tbody tr th {\n",
       "        vertical-align: top;\n",
       "    }\n",
       "\n",
       "    .dataframe thead th {\n",
       "        text-align: right;\n",
       "    }\n",
       "</style>\n",
       "<table border=\"1\" class=\"dataframe\">\n",
       "  <thead>\n",
       "    <tr style=\"text-align: right;\">\n",
       "      <th></th>\n",
       "      <th>Unnamed: 0</th>\n",
       "      <th>title</th>\n",
       "      <th>text</th>\n",
       "      <th>label</th>\n",
       "      <th>text_len</th>\n",
       "      <th>text_cnt</th>\n",
       "    </tr>\n",
       "  </thead>\n",
       "  <tbody>\n",
       "    <tr>\n",
       "      <th>2</th>\n",
       "      <td>3608</td>\n",
       "      <td>Kerry to go to Paris in gesture of sympathy</td>\n",
       "      <td>U.S. Secretary of State John F. Kerry said Mon...</td>\n",
       "      <td>REAL</td>\n",
       "      <td>2543</td>\n",
       "      <td>423</td>\n",
       "    </tr>\n",
       "    <tr>\n",
       "      <th>4</th>\n",
       "      <td>875</td>\n",
       "      <td>The Battle of New York: Why This Primary Matters</td>\n",
       "      <td>It's primary day in New York and front-runners...</td>\n",
       "      <td>REAL</td>\n",
       "      <td>1840</td>\n",
       "      <td>307</td>\n",
       "    </tr>\n",
       "    <tr>\n",
       "      <th>7</th>\n",
       "      <td>95</td>\n",
       "      <td>‘Britain’s Schindler’ Dies at 106</td>\n",
       "      <td>A Czech stockbroker who saved more than 650 Je...</td>\n",
       "      <td>REAL</td>\n",
       "      <td>783</td>\n",
       "      <td>123</td>\n",
       "    </tr>\n",
       "    <tr>\n",
       "      <th>8</th>\n",
       "      <td>4869</td>\n",
       "      <td>Fact check: Trump and Clinton at the 'commande...</td>\n",
       "      <td>Hillary Clinton and Donald Trump made some ina...</td>\n",
       "      <td>REAL</td>\n",
       "      <td>13863</td>\n",
       "      <td>2288</td>\n",
       "    </tr>\n",
       "    <tr>\n",
       "      <th>9</th>\n",
       "      <td>2909</td>\n",
       "      <td>Iran reportedly makes new push for uranium con...</td>\n",
       "      <td>Iranian negotiators reportedly have made a las...</td>\n",
       "      <td>REAL</td>\n",
       "      <td>4296</td>\n",
       "      <td>692</td>\n",
       "    </tr>\n",
       "    <tr>\n",
       "      <th>...</th>\n",
       "      <td>...</td>\n",
       "      <td>...</td>\n",
       "      <td>...</td>\n",
       "      <td>...</td>\n",
       "      <td>...</td>\n",
       "      <td>...</td>\n",
       "    </tr>\n",
       "    <tr>\n",
       "      <th>6324</th>\n",
       "      <td>2316</td>\n",
       "      <td>Alabama Lawmaker: Same-Sex Couples Don’t Deser...</td>\n",
       "      <td>Most conservatives who oppose marriage equalit...</td>\n",
       "      <td>REAL</td>\n",
       "      <td>1822</td>\n",
       "      <td>283</td>\n",
       "    </tr>\n",
       "    <tr>\n",
       "      <th>6327</th>\n",
       "      <td>3262</td>\n",
       "      <td>GOP Senator David Perdue Jokes About Praying f...</td>\n",
       "      <td>The freshman senator from Georgia quoted scrip...</td>\n",
       "      <td>REAL</td>\n",
       "      <td>2212</td>\n",
       "      <td>362</td>\n",
       "    </tr>\n",
       "    <tr>\n",
       "      <th>6330</th>\n",
       "      <td>4490</td>\n",
       "      <td>State Department says it can't find emails fro...</td>\n",
       "      <td>The State Department told the Republican Natio...</td>\n",
       "      <td>REAL</td>\n",
       "      <td>4076</td>\n",
       "      <td>629</td>\n",
       "    </tr>\n",
       "    <tr>\n",
       "      <th>6333</th>\n",
       "      <td>4021</td>\n",
       "      <td>In Ethiopia, Obama seeks progress on peace, se...</td>\n",
       "      <td>ADDIS ABABA, Ethiopia —President Obama convene...</td>\n",
       "      <td>REAL</td>\n",
       "      <td>6991</td>\n",
       "      <td>1093</td>\n",
       "    </tr>\n",
       "    <tr>\n",
       "      <th>6334</th>\n",
       "      <td>4330</td>\n",
       "      <td>Jeb Bush Is Suddenly Attacking Trump. Here's W...</td>\n",
       "      <td>Jeb Bush Is Suddenly Attacking Trump. Here's W...</td>\n",
       "      <td>REAL</td>\n",
       "      <td>4818</td>\n",
       "      <td>801</td>\n",
       "    </tr>\n",
       "  </tbody>\n",
       "</table>\n",
       "<p>3171 rows × 6 columns</p>\n",
       "</div>"
      ],
      "text/plain": [
       "      Unnamed: 0                                              title  \\\n",
       "2           3608        Kerry to go to Paris in gesture of sympathy   \n",
       "4            875   The Battle of New York: Why This Primary Matters   \n",
       "7             95                  ‘Britain’s Schindler’ Dies at 106   \n",
       "8           4869  Fact check: Trump and Clinton at the 'commande...   \n",
       "9           2909  Iran reportedly makes new push for uranium con...   \n",
       "...          ...                                                ...   \n",
       "6324        2316  Alabama Lawmaker: Same-Sex Couples Don’t Deser...   \n",
       "6327        3262  GOP Senator David Perdue Jokes About Praying f...   \n",
       "6330        4490  State Department says it can't find emails fro...   \n",
       "6333        4021  In Ethiopia, Obama seeks progress on peace, se...   \n",
       "6334        4330  Jeb Bush Is Suddenly Attacking Trump. Here's W...   \n",
       "\n",
       "                                                   text label  text_len  \\\n",
       "2     U.S. Secretary of State John F. Kerry said Mon...  REAL      2543   \n",
       "4     It's primary day in New York and front-runners...  REAL      1840   \n",
       "7     A Czech stockbroker who saved more than 650 Je...  REAL       783   \n",
       "8     Hillary Clinton and Donald Trump made some ina...  REAL     13863   \n",
       "9     Iranian negotiators reportedly have made a las...  REAL      4296   \n",
       "...                                                 ...   ...       ...   \n",
       "6324  Most conservatives who oppose marriage equalit...  REAL      1822   \n",
       "6327  The freshman senator from Georgia quoted scrip...  REAL      2212   \n",
       "6330  The State Department told the Republican Natio...  REAL      4076   \n",
       "6333  ADDIS ABABA, Ethiopia —President Obama convene...  REAL      6991   \n",
       "6334  Jeb Bush Is Suddenly Attacking Trump. Here's W...  REAL      4818   \n",
       "\n",
       "      text_cnt  \n",
       "2          423  \n",
       "4          307  \n",
       "7          123  \n",
       "8         2288  \n",
       "9          692  \n",
       "...        ...  \n",
       "6324       283  \n",
       "6327       362  \n",
       "6330       629  \n",
       "6333      1093  \n",
       "6334       801  \n",
       "\n",
       "[3171 rows x 6 columns]"
      ]
     },
     "execution_count": 103,
     "metadata": {},
     "output_type": "execute_result"
    }
   ],
   "source": [
    "filter = df['label'] == 'REAL'\n",
    "df_real = df[filter]\n",
    "df_real"
   ]
  },
  {
   "cell_type": "code",
   "execution_count": 104,
   "id": "surprised-swing",
   "metadata": {},
   "outputs": [
    {
     "data": {
      "text/html": [
       "<div>\n",
       "<style scoped>\n",
       "    .dataframe tbody tr th:only-of-type {\n",
       "        vertical-align: middle;\n",
       "    }\n",
       "\n",
       "    .dataframe tbody tr th {\n",
       "        vertical-align: top;\n",
       "    }\n",
       "\n",
       "    .dataframe thead th {\n",
       "        text-align: right;\n",
       "    }\n",
       "</style>\n",
       "<table border=\"1\" class=\"dataframe\">\n",
       "  <thead>\n",
       "    <tr style=\"text-align: right;\">\n",
       "      <th></th>\n",
       "      <th>Unnamed: 0</th>\n",
       "      <th>title</th>\n",
       "      <th>text</th>\n",
       "      <th>label</th>\n",
       "      <th>text_len</th>\n",
       "      <th>text_cnt</th>\n",
       "    </tr>\n",
       "  </thead>\n",
       "  <tbody>\n",
       "    <tr>\n",
       "      <th>0</th>\n",
       "      <td>8476</td>\n",
       "      <td>You Can Smell Hillary’s Fear</td>\n",
       "      <td>Daniel Greenfield, a Shillman Journalism Fello...</td>\n",
       "      <td>FAKE</td>\n",
       "      <td>7518</td>\n",
       "      <td>1298</td>\n",
       "    </tr>\n",
       "    <tr>\n",
       "      <th>1</th>\n",
       "      <td>10294</td>\n",
       "      <td>Watch The Exact Moment Paul Ryan Committed Pol...</td>\n",
       "      <td>Google Pinterest Digg Linkedin Reddit Stumbleu...</td>\n",
       "      <td>FAKE</td>\n",
       "      <td>2646</td>\n",
       "      <td>446</td>\n",
       "    </tr>\n",
       "    <tr>\n",
       "      <th>3</th>\n",
       "      <td>10142</td>\n",
       "      <td>Bernie supporters on Twitter erupt in anger ag...</td>\n",
       "      <td>— Kaydee King (@KaydeeKing) November 9, 2016 T...</td>\n",
       "      <td>FAKE</td>\n",
       "      <td>2660</td>\n",
       "      <td>404</td>\n",
       "    </tr>\n",
       "    <tr>\n",
       "      <th>5</th>\n",
       "      <td>6903</td>\n",
       "      <td>Tehran, USA</td>\n",
       "      <td>\\nI’m not an immigrant, but my grandparents ...</td>\n",
       "      <td>FAKE</td>\n",
       "      <td>13333</td>\n",
       "      <td>2348</td>\n",
       "    </tr>\n",
       "    <tr>\n",
       "      <th>6</th>\n",
       "      <td>7341</td>\n",
       "      <td>Girl Horrified At What She Watches Boyfriend D...</td>\n",
       "      <td>Share This Baylee Luciani (left), Screenshot o...</td>\n",
       "      <td>FAKE</td>\n",
       "      <td>3171</td>\n",
       "      <td>553</td>\n",
       "    </tr>\n",
       "    <tr>\n",
       "      <th>...</th>\n",
       "      <td>...</td>\n",
       "      <td>...</td>\n",
       "      <td>...</td>\n",
       "      <td>...</td>\n",
       "      <td>...</td>\n",
       "      <td>...</td>\n",
       "    </tr>\n",
       "    <tr>\n",
       "      <th>6326</th>\n",
       "      <td>6143</td>\n",
       "      <td>DOJ COMPLAINT: Comey Under Fire Over Partisan ...</td>\n",
       "      <td>DOJ COMPLAINT: Comey Under Fire Over Partisan ...</td>\n",
       "      <td>FAKE</td>\n",
       "      <td>3077</td>\n",
       "      <td>489</td>\n",
       "    </tr>\n",
       "    <tr>\n",
       "      <th>6328</th>\n",
       "      <td>9337</td>\n",
       "      <td>Radio Derb Is On The Air–Leonardo And Brazil’s...</td>\n",
       "      <td></td>\n",
       "      <td>FAKE</td>\n",
       "      <td>1</td>\n",
       "      <td>2</td>\n",
       "    </tr>\n",
       "    <tr>\n",
       "      <th>6329</th>\n",
       "      <td>8737</td>\n",
       "      <td>Assange claims ‘crazed’ Clinton campaign tried...</td>\n",
       "      <td>Julian Assange has claimed the Hillary Clinton...</td>\n",
       "      <td>FAKE</td>\n",
       "      <td>2572</td>\n",
       "      <td>412</td>\n",
       "    </tr>\n",
       "    <tr>\n",
       "      <th>6331</th>\n",
       "      <td>8062</td>\n",
       "      <td>The ‘P’ in PBS Should Stand for ‘Plutocratic’ ...</td>\n",
       "      <td>The ‘P’ in PBS Should Stand for ‘Plutocratic’ ...</td>\n",
       "      <td>FAKE</td>\n",
       "      <td>14323</td>\n",
       "      <td>2183</td>\n",
       "    </tr>\n",
       "    <tr>\n",
       "      <th>6332</th>\n",
       "      <td>8622</td>\n",
       "      <td>Anti-Trump Protesters Are Tools of the Oligarc...</td>\n",
       "      <td>Anti-Trump Protesters Are Tools of the Oligar...</td>\n",
       "      <td>FAKE</td>\n",
       "      <td>11974</td>\n",
       "      <td>1910</td>\n",
       "    </tr>\n",
       "  </tbody>\n",
       "</table>\n",
       "<p>3164 rows × 6 columns</p>\n",
       "</div>"
      ],
      "text/plain": [
       "      Unnamed: 0                                              title  \\\n",
       "0           8476                       You Can Smell Hillary’s Fear   \n",
       "1          10294  Watch The Exact Moment Paul Ryan Committed Pol...   \n",
       "3          10142  Bernie supporters on Twitter erupt in anger ag...   \n",
       "5           6903                                        Tehran, USA   \n",
       "6           7341  Girl Horrified At What She Watches Boyfriend D...   \n",
       "...          ...                                                ...   \n",
       "6326        6143  DOJ COMPLAINT: Comey Under Fire Over Partisan ...   \n",
       "6328        9337  Radio Derb Is On The Air–Leonardo And Brazil’s...   \n",
       "6329        8737  Assange claims ‘crazed’ Clinton campaign tried...   \n",
       "6331        8062  The ‘P’ in PBS Should Stand for ‘Plutocratic’ ...   \n",
       "6332        8622  Anti-Trump Protesters Are Tools of the Oligarc...   \n",
       "\n",
       "                                                   text label  text_len  \\\n",
       "0     Daniel Greenfield, a Shillman Journalism Fello...  FAKE      7518   \n",
       "1     Google Pinterest Digg Linkedin Reddit Stumbleu...  FAKE      2646   \n",
       "3     — Kaydee King (@KaydeeKing) November 9, 2016 T...  FAKE      2660   \n",
       "5       \\nI’m not an immigrant, but my grandparents ...  FAKE     13333   \n",
       "6     Share This Baylee Luciani (left), Screenshot o...  FAKE      3171   \n",
       "...                                                 ...   ...       ...   \n",
       "6326  DOJ COMPLAINT: Comey Under Fire Over Partisan ...  FAKE      3077   \n",
       "6328                                                     FAKE         1   \n",
       "6329  Julian Assange has claimed the Hillary Clinton...  FAKE      2572   \n",
       "6331  The ‘P’ in PBS Should Stand for ‘Plutocratic’ ...  FAKE     14323   \n",
       "6332   Anti-Trump Protesters Are Tools of the Oligar...  FAKE     11974   \n",
       "\n",
       "      text_cnt  \n",
       "0         1298  \n",
       "1          446  \n",
       "3          404  \n",
       "5         2348  \n",
       "6          553  \n",
       "...        ...  \n",
       "6326       489  \n",
       "6328         2  \n",
       "6329       412  \n",
       "6331      2183  \n",
       "6332      1910  \n",
       "\n",
       "[3164 rows x 6 columns]"
      ]
     },
     "execution_count": 104,
     "metadata": {},
     "output_type": "execute_result"
    }
   ],
   "source": [
    "filter = df['label'] == 'FAKE'\n",
    "df_fake = df[filter]\n",
    "df_fake"
   ]
  },
  {
   "cell_type": "markdown",
   "id": "psychological-covering",
   "metadata": {},
   "source": [
    "# Character count"
   ]
  },
  {
   "cell_type": "code",
   "execution_count": 105,
   "id": "intended-subscription",
   "metadata": {},
   "outputs": [
    {
     "name": "stdout",
     "output_type": "stream",
     "text": [
      "\n",
      "    max(text_len): 44039\n",
      "    min(text_len): 43 \n",
      "    max(freq_text_len): 58\n",
      "    min(freq_text_len): 1\n",
      "    count(distinct freq_text_len): 2610\n",
      "\n"
     ]
    }
   ],
   "source": [
    "max_text_len = max(df_real.text_len)\n",
    "min_text_len = min(df_real.text_len)\n",
    "max_freq_text_len = df_real.text_len.value_counts().max()\n",
    "min_freq_text_len = df_real.text_len.value_counts().min()\n",
    "cnt_distinct_text_len = df_real.text_len.nunique()\n",
    "\n",
    "print(\"\"\"\n",
    "    max(text_len): {0}\n",
    "    min(text_len): {1} \n",
    "    max(freq_text_len): {2}\n",
    "    min(freq_text_len): {3}\n",
    "    count(distinct freq_text_len): {4}\n",
    "\"\"\".format(max_text_len, min_text_len, max_freq_text_len, min_freq_text_len, cnt_distinct_text_len))"
   ]
  },
  {
   "cell_type": "code",
   "execution_count": 109,
   "id": "otherwise-revelation",
   "metadata": {},
   "outputs": [
    {
     "data": {
      "image/png": "[encoded data removed]",
      "text/plain": [
       "<Figure size 864x576 with 1 Axes>"
      ]
     },
     "metadata": {
      "needs_background": "light"
     },
     "output_type": "display_data"
    }
   ],
   "source": [
    "bins = cnt_distinct_text_len\n",
    "plt.figure(figsize=(12, 8))\n",
    "plt.hist(df_real.text_len, bins=bins)\n",
    "plt.ylim(min_freq_text_len, max_freq_text_len)\n",
    "plt.xlabel('text char count')\n",
    "plt.ylabel('frequency')\n",
    "plt.title('Text Char Count Histogram')\n",
    "plt.grid(True)\n",
    "plt.show()"
   ]
  },
  {
   "cell_type": "code",
   "execution_count": 113,
   "id": "general-season",
   "metadata": {},
   "outputs": [
    {
     "data": {
      "image/png": "[encoded data removed]",
      "text/plain": [
       "<Figure size 864x576 with 1 Axes>"
      ]
     },
     "metadata": {
      "needs_background": "light"
     },
     "output_type": "display_data"
    }
   ],
   "source": [
    "tmp_df = df_real[df_real['text_len'] < 20000]\n",
    "\n",
    "bins = 250\n",
    "plt.figure(figsize=(12, 8))\n",
    "plt.hist(tmp_df.text_len, bins=bins)\n",
    "# plt.ylim(min_freq_text_len, max_freq_text_len)\n",
    "plt.xlabel('text char count')\n",
    "plt.ylabel('frequency')\n",
    "plt.title('Text Char Count Histogram')\n",
    "plt.grid(True)\n",
    "plt.show()"
   ]
  },
  {
   "cell_type": "code",
   "execution_count": 114,
   "id": "gentle-monitoring",
   "metadata": {},
   "outputs": [
    {
     "name": "stdout",
     "output_type": "stream",
     "text": [
      "\n",
      "    max(text_len): 115372\n",
      "    min(text_len): 1 \n",
      "    max(freq_text_len): 36\n",
      "    min(freq_text_len): 1\n",
      "    count(distinct freq_text_len): 2525\n",
      "\n"
     ]
    }
   ],
   "source": [
    "max_text_len = max(df_fake.text_len)\n",
    "min_text_len = min(df_fake.text_len)\n",
    "max_freq_text_len = df_fake.text_len.value_counts().max()\n",
    "min_freq_text_len = df_fake.text_len.value_counts().min()\n",
    "cnt_distinct_text_len = df_fake.text_len.nunique()\n",
    "\n",
    "print(\"\"\"\n",
    "    max(text_len): {0}\n",
    "    min(text_len): {1} \n",
    "    max(freq_text_len): {2}\n",
    "    min(freq_text_len): {3}\n",
    "    count(distinct freq_text_len): {4}\n",
    "\"\"\".format(max_text_len, min_text_len, max_freq_text_len, min_freq_text_len, cnt_distinct_text_len))"
   ]
  },
  {
   "cell_type": "code",
   "execution_count": 119,
   "id": "harmful-theology",
   "metadata": {},
   "outputs": [
    {
     "data": {
      "image/png": "[encoded data removed]",
      "text/plain": [
       "<Figure size 864x576 with 1 Axes>"
      ]
     },
     "metadata": {
      "needs_background": "light"
     },
     "output_type": "display_data"
    }
   ],
   "source": [
    "bins = cnt_distinct_text_len\n",
    "plt.figure(figsize=(12, 8))\n",
    "plt.hist(df_fake.text_len, bins=bins, color=\"red\")\n",
    "plt.ylim(min_freq_text_len, max_freq_text_len)\n",
    "plt.xlabel('text char count')\n",
    "plt.ylabel('frequency')\n",
    "plt.title('Text Char Count Histogram')\n",
    "plt.grid(True)\n",
    "plt.show()"
   ]
  },
  {
   "cell_type": "code",
   "execution_count": 121,
   "id": "endangered-republican",
   "metadata": {},
   "outputs": [
    {
     "data": {
      "image/png": "[encoded data removed]",
      "text/plain": [
       "<Figure size 864x576 with 1 Axes>"
      ]
     },
     "metadata": {
      "needs_background": "light"
     },
     "output_type": "display_data"
    }
   ],
   "source": [
    "tmp_df = df_fake[df_fake['text_len'] < 20000]\n",
    "\n",
    "bins = 250\n",
    "plt.figure(figsize=(12, 8))\n",
    "plt.hist(tmp_df.text_len, bins=bins, color=\"red\")\n",
    "# plt.ylim(min_freq_text_len, max_freq_text_len)\n",
    "plt.xlabel('text char count')\n",
    "plt.ylabel('frequency')\n",
    "plt.title('Text Char Count Histogram')\n",
    "plt.grid(True)\n",
    "plt.show()"
   ]
  },
  {
   "cell_type": "markdown",
   "id": "forced-hungarian",
   "metadata": {},
   "source": [
    "# Word count"
   ]
  },
  {
   "cell_type": "markdown",
   "id": "complex-length",
   "metadata": {},
   "source": [
    "# Real Word Counts"
   ]
  },
  {
   "cell_type": "code",
   "execution_count": 159,
   "id": "guilty-radius",
   "metadata": {},
   "outputs": [
    {
     "name": "stdout",
     "output_type": "stream",
     "text": [
      "\n",
      "    max(text_cnt): 7546\n",
      "    min(text_cnt): 7 \n",
      "    max(freq_text_cnt): 73\n",
      "    min(freq_text_cnt): 1\n",
      "    count(distinct freq_text_cnt): 1470\n",
      "\n"
     ]
    }
   ],
   "source": [
    "# label = REAL \n",
    "max_text_cnt = max(df_real.text_cnt)\n",
    "min_text_cnt = min(df_real.text_cnt)\n",
    "max_freq_text_cnt = df_real.text_cnt.value_counts().max()\n",
    "min_freq_text_cnt = df_real.text_cnt.value_counts().min()\n",
    "cnt_distinct_text_cnt = df_real.text_cnt.nunique()\n",
    "\n",
    "print(\"\"\"\n",
    "    max(text_cnt): {0}\n",
    "    min(text_cnt): {1} \n",
    "    max(freq_text_cnt): {2}\n",
    "    min(freq_text_cnt): {3}\n",
    "    count(distinct freq_text_cnt): {4}\n",
    "\"\"\".format(max_text_cnt, min_text_cnt, max_freq_text_cnt, min_freq_text_cnt, cnt_distinct_text_cnt))"
   ]
  },
  {
   "cell_type": "code",
   "execution_count": 160,
   "id": "quick-paris",
   "metadata": {},
   "outputs": [
    {
     "data": {
      "image/png": "[encoded data removed]",
      "text/plain": [
       "<Figure size 864x576 with 1 Axes>"
      ]
     },
     "metadata": {
      "needs_background": "light"
     },
     "output_type": "display_data"
    }
   ],
   "source": [
    "bins = cnt_distinct_text_cnt\n",
    "plt.figure(figsize=(12, 8))\n",
    "plt.hist(df_real.text_cnt, bins=bins)\n",
    "plt.ylim(min_freq_text_cnt, max_freq_text_cnt)\n",
    "plt.xlabel('text word count')\n",
    "plt.ylabel('frequency')\n",
    "plt.title('Text word Count Histogram')\n",
    "plt.grid(True)\n",
    "plt.show()"
   ]
  },
  {
   "cell_type": "code",
   "execution_count": 167,
   "id": "sealed-velvet",
   "metadata": {},
   "outputs": [
    {
     "data": {
      "image/png": "[encoded data removed]",
      "text/plain": [
       "<Figure size 864x576 with 1 Axes>"
      ]
     },
     "metadata": {
      "needs_background": "light"
     },
     "output_type": "display_data"
    }
   ],
   "source": [
    "tmp_df = df_real[df_real['text_cnt'] < 2000]\n",
    "\n",
    "bins = 100\n",
    "plt.figure(figsize=(12, 8))\n",
    "plt.hist(tmp_df.text_cnt, bins=bins)\n",
    "plt.ylim(min_freq_text_cnt, max_freq_text_cnt)\n",
    "plt.xlabel('text word count')\n",
    "plt.ylabel('frequency')\n",
    "plt.title('Text word Count Histogram')\n",
    "plt.grid(True)\n",
    "plt.show()"
   ]
  },
  {
   "cell_type": "code",
   "execution_count": 177,
   "id": "bottom-rider",
   "metadata": {},
   "outputs": [
    {
     "data": {
      "text/plain": [
       "count    3171.000000\n",
       "mean      852.018606\n",
       "std       706.371750\n",
       "min         7.000000\n",
       "25%       438.000000\n",
       "50%       752.000000\n",
       "75%      1095.000000\n",
       "max      7546.000000\n",
       "Name: text_cnt, dtype: float64"
      ]
     },
     "execution_count": 177,
     "metadata": {},
     "output_type": "execute_result"
    }
   ],
   "source": [
    "df_real['text_cnt'].describe()"
   ]
  },
  {
   "cell_type": "code",
   "execution_count": 176,
   "id": "located-eugene",
   "metadata": {},
   "outputs": [
    {
     "data": {
      "text/plain": [
       "count    3022.000000\n",
       "mean      741.787889\n",
       "std       443.695182\n",
       "min         7.000000\n",
       "25%       421.000000\n",
       "50%       727.500000\n",
       "75%      1036.750000\n",
       "max      1987.000000\n",
       "Name: text_cnt, dtype: float64"
      ]
     },
     "execution_count": 176,
     "metadata": {},
     "output_type": "execute_result"
    }
   ],
   "source": [
    "df_real[df_real['text_cnt'] < 2000]['text_cnt'].describe()"
   ]
  },
  {
   "cell_type": "markdown",
   "id": "combined-experience",
   "metadata": {},
   "source": [
    "# Fake Word Counts"
   ]
  },
  {
   "cell_type": "code",
   "execution_count": 168,
   "id": "incredible-velvet",
   "metadata": {},
   "outputs": [
    {
     "name": "stdout",
     "output_type": "stream",
     "text": [
      "\n",
      "    max(text_cnt): 20897\n",
      "    min(text_cnt): 2 \n",
      "    max(freq_text_cnt): 36\n",
      "    min(freq_text_cnt): 1\n",
      "    count(distinct freq_text_cnt): 1359\n",
      "\n"
     ]
    }
   ],
   "source": [
    "# label = FAKE \n",
    "max_text_cnt = max(df_fake.text_cnt)\n",
    "min_text_cnt = min(df_fake.text_cnt)\n",
    "max_freq_text_cnt = df_fake.text_cnt.value_counts().max()\n",
    "min_freq_text_cnt = df_fake.text_cnt.value_counts().min()\n",
    "cnt_distinct_text_cnt = df_fake.text_cnt.nunique()\n",
    "\n",
    "print(\"\"\"\n",
    "    max(text_cnt): {0}\n",
    "    min(text_cnt): {1} \n",
    "    max(freq_text_cnt): {2}\n",
    "    min(freq_text_cnt): {3}\n",
    "    count(distinct freq_text_cnt): {4}\n",
    "\"\"\".format(max_text_cnt, min_text_cnt, max_freq_text_cnt, min_freq_text_cnt, cnt_distinct_text_cnt))"
   ]
  },
  {
   "cell_type": "code",
   "execution_count": 170,
   "id": "binary-reform",
   "metadata": {},
   "outputs": [
    {
     "data": {
      "image/png": "[encoded data removed]",
      "text/plain": [
       "<Figure size 864x576 with 1 Axes>"
      ]
     },
     "metadata": {
      "needs_background": "light"
     },
     "output_type": "display_data"
    }
   ],
   "source": [
    "bins = cnt_distinct_text_cnt\n",
    "plt.figure(figsize=(12, 8))\n",
    "plt.hist(df_fake.text_cnt, bins=bins, color=\"red\")\n",
    "plt.ylim(min_freq_text_cnt, max_freq_text_cnt)\n",
    "plt.xlabel('text word count')\n",
    "plt.ylabel('frequency')\n",
    "plt.title('Text word Count Histogram')\n",
    "plt.grid(True)\n",
    "plt.show()"
   ]
  },
  {
   "cell_type": "code",
   "execution_count": 174,
   "id": "mounted-tomorrow",
   "metadata": {},
   "outputs": [
    {
     "data": {
      "image/png": "[encoded data removed]",
      "text/plain": [
       "<Figure size 864x576 with 1 Axes>"
      ]
     },
     "metadata": {
      "needs_background": "light"
     },
     "output_type": "display_data"
    }
   ],
   "source": [
    "# also show 2000 articles \n",
    "tmp_df = df_fake[df_fake['text_cnt'] < 5000]\n",
    "\n",
    "bins = 100\n",
    "plt.figure(figsize=(12, 8))\n",
    "plt.hist(tmp_df.text_cnt, bins=bins, color=\"red\")\n",
    "# plt.ylim(min_freq_text_cnt, max_freq_text_cnt)\n",
    "plt.xlabel('text word count')\n",
    "plt.ylabel('frequency')\n",
    "plt.title('Text word Count Histogram')\n",
    "plt.grid(True)\n",
    "plt.show()"
   ]
  },
  {
   "cell_type": "code",
   "execution_count": 178,
   "id": "creative-plain",
   "metadata": {},
   "outputs": [
    {
     "data": {
      "text/plain": [
       "count     3164.000000\n",
       "mean       678.947535\n",
       "std        957.274981\n",
       "min          2.000000\n",
       "25%        212.000000\n",
       "50%        421.000000\n",
       "75%        828.250000\n",
       "max      20897.000000\n",
       "Name: text_cnt, dtype: float64"
      ]
     },
     "execution_count": 178,
     "metadata": {},
     "output_type": "execute_result"
    }
   ],
   "source": [
    "df_fake['text_cnt'].describe()"
   ]
  },
  {
   "cell_type": "code",
   "execution_count": 179,
   "id": "adjacent-toyota",
   "metadata": {},
   "outputs": [
    {
     "data": {
      "text/plain": [
       "count    2995.000000\n",
       "mean      524.389983\n",
       "std       436.097343\n",
       "min         2.000000\n",
       "25%       205.000000\n",
       "50%       394.000000\n",
       "75%       733.000000\n",
       "max      1999.000000\n",
       "Name: text_cnt, dtype: float64"
      ]
     },
     "execution_count": 179,
     "metadata": {},
     "output_type": "execute_result"
    }
   ],
   "source": [
    "df_fake[df_fake['text_cnt'] < 2000]['text_cnt'].describe()"
   ]
  },
  {
   "cell_type": "markdown",
   "id": "atmospheric-dependence",
   "metadata": {},
   "source": [
    "## Discussion: difference between word counts in fake and real articles"
   ]
  },
  {
   "cell_type": "markdown",
   "id": "composed-submission",
   "metadata": {},
   "source": [
    "# Calculate the min and max character and word counts for title and text columns."
   ]
  },
  {
   "cell_type": "code",
   "execution_count": 94,
   "id": "metallic-longitude",
   "metadata": {},
   "outputs": [
    {
     "name": "stdout",
     "output_type": "stream",
     "text": [
      "\n",
      "    title_char_max: 289\n",
      "    title_char_min: 1\n",
      "    title_word_max: 53\n",
      "    title_word_min: 1\n",
      "\n"
     ]
    }
   ],
   "source": [
    "title_char_max  = df.title.str.len().max()\n",
    "title_char_min  = df.title.str.len().min()\n",
    "title_word_max  = (df.title.str.count(' ') + 1).max()\n",
    "title_word_min  = (df.title.str.count(' ') + 1).min()\n",
    "\n",
    "print(\"\"\"\n",
    "    title_char_max: {0}\n",
    "    title_char_min: {1}\n",
    "    title_word_max: {2}\n",
    "    title_word_min: {3}\n",
    "\"\"\".format(title_char_max, title_char_min, title_word_max, title_word_min))"
   ]
  },
  {
   "cell_type": "code",
   "execution_count": 95,
   "id": "congressional-rendering",
   "metadata": {},
   "outputs": [
    {
     "name": "stdout",
     "output_type": "stream",
     "text": [
      "\n",
      "    text_char_max: 115848\n",
      "    text_char_min: 1\n",
      "    text_word_max: 20897\n",
      "    text_word_min: 2\n",
      "\n"
     ]
    }
   ],
   "source": [
    "text_char_max  = df.text.str.len().max()\n",
    "text_char_min  = df.text.str.len().min()\n",
    "text_word_max  = (df.text.str.count(' ') + 1).max()\n",
    "text_word_min  = (df.text.str.count(' ') + 1).min()\n",
    "\n",
    "print(\"\"\"\n",
    "    text_char_max: {0}\n",
    "    text_char_min: {1}\n",
    "    text_word_max: {2}\n",
    "    text_word_min: {3}\n",
    "\"\"\".format(text_char_max, text_char_min, text_word_max, text_word_min))"
   ]
  },
  {
   "cell_type": "markdown",
   "id": "widespread-break",
   "metadata": {},
   "source": [
    "# Calculate the total number of distinct words across all articles. \n",
    "# Note the difference between the max words in the text and the total number of unique words in the dataset."
   ]
  },
  {
   "cell_type": "code",
   "execution_count": 182,
   "id": "civilian-serve",
   "metadata": {},
   "outputs": [
    {
     "data": {
      "text/html": [
       "<div>\n",
       "<style scoped>\n",
       "    .dataframe tbody tr th:only-of-type {\n",
       "        vertical-align: middle;\n",
       "    }\n",
       "\n",
       "    .dataframe tbody tr th {\n",
       "        vertical-align: top;\n",
       "    }\n",
       "\n",
       "    .dataframe thead th {\n",
       "        text-align: right;\n",
       "    }\n",
       "</style>\n",
       "<table border=\"1\" class=\"dataframe\">\n",
       "  <thead>\n",
       "    <tr style=\"text-align: right;\">\n",
       "      <th></th>\n",
       "      <th>Unnamed: 0</th>\n",
       "      <th>title</th>\n",
       "      <th>text</th>\n",
       "      <th>label</th>\n",
       "      <th>text_len</th>\n",
       "      <th>text_cnt</th>\n",
       "      <th>char_to_word</th>\n",
       "      <th>cnt_distinct_word</th>\n",
       "      <th>diff</th>\n",
       "    </tr>\n",
       "  </thead>\n",
       "  <tbody>\n",
       "    <tr>\n",
       "      <th>0</th>\n",
       "      <td>8476</td>\n",
       "      <td>You Can Smell Hillary’s Fear</td>\n",
       "      <td>Daniel Greenfield, a Shillman Journalism Fello...</td>\n",
       "      <td>FAKE</td>\n",
       "      <td>7518</td>\n",
       "      <td>1298</td>\n",
       "      <td>5.791988</td>\n",
       "      <td>554</td>\n",
       "      <td>744</td>\n",
       "    </tr>\n",
       "    <tr>\n",
       "      <th>1</th>\n",
       "      <td>10294</td>\n",
       "      <td>Watch The Exact Moment Paul Ryan Committed Pol...</td>\n",
       "      <td>Google Pinterest Digg Linkedin Reddit Stumbleu...</td>\n",
       "      <td>FAKE</td>\n",
       "      <td>2646</td>\n",
       "      <td>446</td>\n",
       "      <td>5.932735</td>\n",
       "      <td>277</td>\n",
       "      <td>169</td>\n",
       "    </tr>\n",
       "    <tr>\n",
       "      <th>2</th>\n",
       "      <td>3608</td>\n",
       "      <td>Kerry to go to Paris in gesture of sympathy</td>\n",
       "      <td>U.S. Secretary of State John F. Kerry said Mon...</td>\n",
       "      <td>REAL</td>\n",
       "      <td>2543</td>\n",
       "      <td>423</td>\n",
       "      <td>6.011820</td>\n",
       "      <td>237</td>\n",
       "      <td>186</td>\n",
       "    </tr>\n",
       "    <tr>\n",
       "      <th>3</th>\n",
       "      <td>10142</td>\n",
       "      <td>Bernie supporters on Twitter erupt in anger ag...</td>\n",
       "      <td>— Kaydee King (@KaydeeKing) November 9, 2016 T...</td>\n",
       "      <td>FAKE</td>\n",
       "      <td>2660</td>\n",
       "      <td>404</td>\n",
       "      <td>6.584158</td>\n",
       "      <td>249</td>\n",
       "      <td>155</td>\n",
       "    </tr>\n",
       "    <tr>\n",
       "      <th>4</th>\n",
       "      <td>875</td>\n",
       "      <td>The Battle of New York: Why This Primary Matters</td>\n",
       "      <td>It's primary day in New York and front-runners...</td>\n",
       "      <td>REAL</td>\n",
       "      <td>1840</td>\n",
       "      <td>307</td>\n",
       "      <td>5.993485</td>\n",
       "      <td>176</td>\n",
       "      <td>131</td>\n",
       "    </tr>\n",
       "    <tr>\n",
       "      <th>...</th>\n",
       "      <td>...</td>\n",
       "      <td>...</td>\n",
       "      <td>...</td>\n",
       "      <td>...</td>\n",
       "      <td>...</td>\n",
       "      <td>...</td>\n",
       "      <td>...</td>\n",
       "      <td>...</td>\n",
       "      <td>...</td>\n",
       "    </tr>\n",
       "    <tr>\n",
       "      <th>6330</th>\n",
       "      <td>4490</td>\n",
       "      <td>State Department says it can't find emails fro...</td>\n",
       "      <td>The State Department told the Republican Natio...</td>\n",
       "      <td>REAL</td>\n",
       "      <td>4076</td>\n",
       "      <td>629</td>\n",
       "      <td>6.480127</td>\n",
       "      <td>276</td>\n",
       "      <td>353</td>\n",
       "    </tr>\n",
       "    <tr>\n",
       "      <th>6331</th>\n",
       "      <td>8062</td>\n",
       "      <td>The ‘P’ in PBS Should Stand for ‘Plutocratic’ ...</td>\n",
       "      <td>The ‘P’ in PBS Should Stand for ‘Plutocratic’ ...</td>\n",
       "      <td>FAKE</td>\n",
       "      <td>14323</td>\n",
       "      <td>2183</td>\n",
       "      <td>6.561154</td>\n",
       "      <td>1028</td>\n",
       "      <td>1155</td>\n",
       "    </tr>\n",
       "    <tr>\n",
       "      <th>6332</th>\n",
       "      <td>8622</td>\n",
       "      <td>Anti-Trump Protesters Are Tools of the Oligarc...</td>\n",
       "      <td>Anti-Trump Protesters Are Tools of the Oligar...</td>\n",
       "      <td>FAKE</td>\n",
       "      <td>11974</td>\n",
       "      <td>1910</td>\n",
       "      <td>6.269110</td>\n",
       "      <td>768</td>\n",
       "      <td>1142</td>\n",
       "    </tr>\n",
       "    <tr>\n",
       "      <th>6333</th>\n",
       "      <td>4021</td>\n",
       "      <td>In Ethiopia, Obama seeks progress on peace, se...</td>\n",
       "      <td>ADDIS ABABA, Ethiopia —President Obama convene...</td>\n",
       "      <td>REAL</td>\n",
       "      <td>6991</td>\n",
       "      <td>1093</td>\n",
       "      <td>6.396157</td>\n",
       "      <td>544</td>\n",
       "      <td>549</td>\n",
       "    </tr>\n",
       "    <tr>\n",
       "      <th>6334</th>\n",
       "      <td>4330</td>\n",
       "      <td>Jeb Bush Is Suddenly Attacking Trump. Here's W...</td>\n",
       "      <td>Jeb Bush Is Suddenly Attacking Trump. Here's W...</td>\n",
       "      <td>REAL</td>\n",
       "      <td>4818</td>\n",
       "      <td>801</td>\n",
       "      <td>6.014981</td>\n",
       "      <td>409</td>\n",
       "      <td>392</td>\n",
       "    </tr>\n",
       "  </tbody>\n",
       "</table>\n",
       "<p>6335 rows × 9 columns</p>\n",
       "</div>"
      ],
      "text/plain": [
       "      Unnamed: 0                                              title  \\\n",
       "0           8476                       You Can Smell Hillary’s Fear   \n",
       "1          10294  Watch The Exact Moment Paul Ryan Committed Pol...   \n",
       "2           3608        Kerry to go to Paris in gesture of sympathy   \n",
       "3          10142  Bernie supporters on Twitter erupt in anger ag...   \n",
       "4            875   The Battle of New York: Why This Primary Matters   \n",
       "...          ...                                                ...   \n",
       "6330        4490  State Department says it can't find emails fro...   \n",
       "6331        8062  The ‘P’ in PBS Should Stand for ‘Plutocratic’ ...   \n",
       "6332        8622  Anti-Trump Protesters Are Tools of the Oligarc...   \n",
       "6333        4021  In Ethiopia, Obama seeks progress on peace, se...   \n",
       "6334        4330  Jeb Bush Is Suddenly Attacking Trump. Here's W...   \n",
       "\n",
       "                                                   text label  text_len  \\\n",
       "0     Daniel Greenfield, a Shillman Journalism Fello...  FAKE      7518   \n",
       "1     Google Pinterest Digg Linkedin Reddit Stumbleu...  FAKE      2646   \n",
       "2     U.S. Secretary of State John F. Kerry said Mon...  REAL      2543   \n",
       "3     — Kaydee King (@KaydeeKing) November 9, 2016 T...  FAKE      2660   \n",
       "4     It's primary day in New York and front-runners...  REAL      1840   \n",
       "...                                                 ...   ...       ...   \n",
       "6330  The State Department told the Republican Natio...  REAL      4076   \n",
       "6331  The ‘P’ in PBS Should Stand for ‘Plutocratic’ ...  FAKE     14323   \n",
       "6332   Anti-Trump Protesters Are Tools of the Oligar...  FAKE     11974   \n",
       "6333  ADDIS ABABA, Ethiopia —President Obama convene...  REAL      6991   \n",
       "6334  Jeb Bush Is Suddenly Attacking Trump. Here's W...  REAL      4818   \n",
       "\n",
       "      text_cnt  char_to_word  cnt_distinct_word  diff  \n",
       "0         1298      5.791988                554   744  \n",
       "1          446      5.932735                277   169  \n",
       "2          423      6.011820                237   186  \n",
       "3          404      6.584158                249   155  \n",
       "4          307      5.993485                176   131  \n",
       "...        ...           ...                ...   ...  \n",
       "6330       629      6.480127                276   353  \n",
       "6331      2183      6.561154               1028  1155  \n",
       "6332      1910      6.269110                768  1142  \n",
       "6333      1093      6.396157                544   549  \n",
       "6334       801      6.014981                409   392  \n",
       "\n",
       "[6335 rows x 9 columns]"
      ]
     },
     "execution_count": 182,
     "metadata": {},
     "output_type": "execute_result"
    }
   ],
   "source": [
    "# Total # of words\n",
    "df['text_cnt'] = df.text.str.count(' ') + 1\n",
    "\n",
    "# Total # of unique words (Is there better way remove special characters from text?)\n",
    "df['cnt_distinct_word'] = df.text.str.replace('[(,“,),%,$,+,.,\\,,@,—,‘,’,!]', '').str.lower().str.strip().str.split(' ')\n",
    "df['cnt_distinct_word'] = [len(set(word)) for word in df.cnt_distinct_word]\n",
    "\n",
    "# Difference\n",
    "df['diff'] = df['text_cnt']-df['cnt_distinct_word']\n",
    "df"
   ]
  },
  {
   "cell_type": "code",
   "execution_count": 183,
   "id": "reflected-zambia",
   "metadata": {},
   "outputs": [
    {
     "data": {
      "text/html": [
       "<div>\n",
       "<style scoped>\n",
       "    .dataframe tbody tr th:only-of-type {\n",
       "        vertical-align: middle;\n",
       "    }\n",
       "\n",
       "    .dataframe tbody tr th {\n",
       "        vertical-align: top;\n",
       "    }\n",
       "\n",
       "    .dataframe thead th {\n",
       "        text-align: right;\n",
       "    }\n",
       "</style>\n",
       "<table border=\"1\" class=\"dataframe\">\n",
       "  <thead>\n",
       "    <tr style=\"text-align: right;\">\n",
       "      <th></th>\n",
       "      <th>Unnamed: 0</th>\n",
       "      <th>title</th>\n",
       "      <th>text</th>\n",
       "      <th>label</th>\n",
       "      <th>text_len</th>\n",
       "      <th>text_cnt</th>\n",
       "      <th>char_to_word</th>\n",
       "      <th>cnt_distinct_word</th>\n",
       "      <th>diff</th>\n",
       "      <th>distinct_ratio</th>\n",
       "    </tr>\n",
       "  </thead>\n",
       "  <tbody>\n",
       "    <tr>\n",
       "      <th>0</th>\n",
       "      <td>8476</td>\n",
       "      <td>You Can Smell Hillary’s Fear</td>\n",
       "      <td>Daniel Greenfield, a Shillman Journalism Fello...</td>\n",
       "      <td>FAKE</td>\n",
       "      <td>7518</td>\n",
       "      <td>1298</td>\n",
       "      <td>5.791988</td>\n",
       "      <td>554</td>\n",
       "      <td>744</td>\n",
       "      <td>0.426810</td>\n",
       "    </tr>\n",
       "    <tr>\n",
       "      <th>1</th>\n",
       "      <td>10294</td>\n",
       "      <td>Watch The Exact Moment Paul Ryan Committed Pol...</td>\n",
       "      <td>Google Pinterest Digg Linkedin Reddit Stumbleu...</td>\n",
       "      <td>FAKE</td>\n",
       "      <td>2646</td>\n",
       "      <td>446</td>\n",
       "      <td>5.932735</td>\n",
       "      <td>277</td>\n",
       "      <td>169</td>\n",
       "      <td>0.621076</td>\n",
       "    </tr>\n",
       "    <tr>\n",
       "      <th>2</th>\n",
       "      <td>3608</td>\n",
       "      <td>Kerry to go to Paris in gesture of sympathy</td>\n",
       "      <td>U.S. Secretary of State John F. Kerry said Mon...</td>\n",
       "      <td>REAL</td>\n",
       "      <td>2543</td>\n",
       "      <td>423</td>\n",
       "      <td>6.011820</td>\n",
       "      <td>237</td>\n",
       "      <td>186</td>\n",
       "      <td>0.560284</td>\n",
       "    </tr>\n",
       "    <tr>\n",
       "      <th>3</th>\n",
       "      <td>10142</td>\n",
       "      <td>Bernie supporters on Twitter erupt in anger ag...</td>\n",
       "      <td>— Kaydee King (@KaydeeKing) November 9, 2016 T...</td>\n",
       "      <td>FAKE</td>\n",
       "      <td>2660</td>\n",
       "      <td>404</td>\n",
       "      <td>6.584158</td>\n",
       "      <td>249</td>\n",
       "      <td>155</td>\n",
       "      <td>0.616337</td>\n",
       "    </tr>\n",
       "    <tr>\n",
       "      <th>4</th>\n",
       "      <td>875</td>\n",
       "      <td>The Battle of New York: Why This Primary Matters</td>\n",
       "      <td>It's primary day in New York and front-runners...</td>\n",
       "      <td>REAL</td>\n",
       "      <td>1840</td>\n",
       "      <td>307</td>\n",
       "      <td>5.993485</td>\n",
       "      <td>176</td>\n",
       "      <td>131</td>\n",
       "      <td>0.573290</td>\n",
       "    </tr>\n",
       "    <tr>\n",
       "      <th>...</th>\n",
       "      <td>...</td>\n",
       "      <td>...</td>\n",
       "      <td>...</td>\n",
       "      <td>...</td>\n",
       "      <td>...</td>\n",
       "      <td>...</td>\n",
       "      <td>...</td>\n",
       "      <td>...</td>\n",
       "      <td>...</td>\n",
       "      <td>...</td>\n",
       "    </tr>\n",
       "    <tr>\n",
       "      <th>6330</th>\n",
       "      <td>4490</td>\n",
       "      <td>State Department says it can't find emails fro...</td>\n",
       "      <td>The State Department told the Republican Natio...</td>\n",
       "      <td>REAL</td>\n",
       "      <td>4076</td>\n",
       "      <td>629</td>\n",
       "      <td>6.480127</td>\n",
       "      <td>276</td>\n",
       "      <td>353</td>\n",
       "      <td>0.438792</td>\n",
       "    </tr>\n",
       "    <tr>\n",
       "      <th>6331</th>\n",
       "      <td>8062</td>\n",
       "      <td>The ‘P’ in PBS Should Stand for ‘Plutocratic’ ...</td>\n",
       "      <td>The ‘P’ in PBS Should Stand for ‘Plutocratic’ ...</td>\n",
       "      <td>FAKE</td>\n",
       "      <td>14323</td>\n",
       "      <td>2183</td>\n",
       "      <td>6.561154</td>\n",
       "      <td>1028</td>\n",
       "      <td>1155</td>\n",
       "      <td>0.470912</td>\n",
       "    </tr>\n",
       "    <tr>\n",
       "      <th>6332</th>\n",
       "      <td>8622</td>\n",
       "      <td>Anti-Trump Protesters Are Tools of the Oligarc...</td>\n",
       "      <td>Anti-Trump Protesters Are Tools of the Oligar...</td>\n",
       "      <td>FAKE</td>\n",
       "      <td>11974</td>\n",
       "      <td>1910</td>\n",
       "      <td>6.269110</td>\n",
       "      <td>768</td>\n",
       "      <td>1142</td>\n",
       "      <td>0.402094</td>\n",
       "    </tr>\n",
       "    <tr>\n",
       "      <th>6333</th>\n",
       "      <td>4021</td>\n",
       "      <td>In Ethiopia, Obama seeks progress on peace, se...</td>\n",
       "      <td>ADDIS ABABA, Ethiopia —President Obama convene...</td>\n",
       "      <td>REAL</td>\n",
       "      <td>6991</td>\n",
       "      <td>1093</td>\n",
       "      <td>6.396157</td>\n",
       "      <td>544</td>\n",
       "      <td>549</td>\n",
       "      <td>0.497713</td>\n",
       "    </tr>\n",
       "    <tr>\n",
       "      <th>6334</th>\n",
       "      <td>4330</td>\n",
       "      <td>Jeb Bush Is Suddenly Attacking Trump. Here's W...</td>\n",
       "      <td>Jeb Bush Is Suddenly Attacking Trump. Here's W...</td>\n",
       "      <td>REAL</td>\n",
       "      <td>4818</td>\n",
       "      <td>801</td>\n",
       "      <td>6.014981</td>\n",
       "      <td>409</td>\n",
       "      <td>392</td>\n",
       "      <td>0.510612</td>\n",
       "    </tr>\n",
       "  </tbody>\n",
       "</table>\n",
       "<p>6335 rows × 10 columns</p>\n",
       "</div>"
      ],
      "text/plain": [
       "      Unnamed: 0                                              title  \\\n",
       "0           8476                       You Can Smell Hillary’s Fear   \n",
       "1          10294  Watch The Exact Moment Paul Ryan Committed Pol...   \n",
       "2           3608        Kerry to go to Paris in gesture of sympathy   \n",
       "3          10142  Bernie supporters on Twitter erupt in anger ag...   \n",
       "4            875   The Battle of New York: Why This Primary Matters   \n",
       "...          ...                                                ...   \n",
       "6330        4490  State Department says it can't find emails fro...   \n",
       "6331        8062  The ‘P’ in PBS Should Stand for ‘Plutocratic’ ...   \n",
       "6332        8622  Anti-Trump Protesters Are Tools of the Oligarc...   \n",
       "6333        4021  In Ethiopia, Obama seeks progress on peace, se...   \n",
       "6334        4330  Jeb Bush Is Suddenly Attacking Trump. Here's W...   \n",
       "\n",
       "                                                   text label  text_len  \\\n",
       "0     Daniel Greenfield, a Shillman Journalism Fello...  FAKE      7518   \n",
       "1     Google Pinterest Digg Linkedin Reddit Stumbleu...  FAKE      2646   \n",
       "2     U.S. Secretary of State John F. Kerry said Mon...  REAL      2543   \n",
       "3     — Kaydee King (@KaydeeKing) November 9, 2016 T...  FAKE      2660   \n",
       "4     It's primary day in New York and front-runners...  REAL      1840   \n",
       "...                                                 ...   ...       ...   \n",
       "6330  The State Department told the Republican Natio...  REAL      4076   \n",
       "6331  The ‘P’ in PBS Should Stand for ‘Plutocratic’ ...  FAKE     14323   \n",
       "6332   Anti-Trump Protesters Are Tools of the Oligar...  FAKE     11974   \n",
       "6333  ADDIS ABABA, Ethiopia —President Obama convene...  REAL      6991   \n",
       "6334  Jeb Bush Is Suddenly Attacking Trump. Here's W...  REAL      4818   \n",
       "\n",
       "      text_cnt  char_to_word  cnt_distinct_word  diff  distinct_ratio  \n",
       "0         1298      5.791988                554   744        0.426810  \n",
       "1          446      5.932735                277   169        0.621076  \n",
       "2          423      6.011820                237   186        0.560284  \n",
       "3          404      6.584158                249   155        0.616337  \n",
       "4          307      5.993485                176   131        0.573290  \n",
       "...        ...           ...                ...   ...             ...  \n",
       "6330       629      6.480127                276   353        0.438792  \n",
       "6331      2183      6.561154               1028  1155        0.470912  \n",
       "6332      1910      6.269110                768  1142        0.402094  \n",
       "6333      1093      6.396157                544   549        0.497713  \n",
       "6334       801      6.014981                409   392        0.510612  \n",
       "\n",
       "[6335 rows x 10 columns]"
      ]
     },
     "execution_count": 183,
     "metadata": {},
     "output_type": "execute_result"
    }
   ],
   "source": [
    "distinct_ratio_df = df\n",
    "distinct_ratio_df['distinct_ratio'] = distinct_ratio_df['cnt_distinct_word'] / distinct_ratio_df['text_cnt']\n",
    "distinct_ratio_df"
   ]
  },
  {
   "cell_type": "markdown",
   "id": "existing-province",
   "metadata": {},
   "source": [
    "What does this ratio mean?"
   ]
  },
  {
   "cell_type": "code",
   "execution_count": 184,
   "id": "metropolitan-driving",
   "metadata": {},
   "outputs": [
    {
     "data": {
      "text/plain": [
       "count    6335.000000\n",
       "mean        0.564793\n",
       "std         0.138189\n",
       "min         0.190984\n",
       "25%         0.478149\n",
       "50%         0.534247\n",
       "75%         0.617247\n",
       "max         1.000000\n",
       "Name: distinct_ratio, dtype: float64"
      ]
     },
     "execution_count": 184,
     "metadata": {},
     "output_type": "execute_result"
    }
   ],
   "source": [
    "distinct_ratio_df['distinct_ratio'].describe()"
   ]
  },
  {
   "cell_type": "code",
   "execution_count": 185,
   "id": "touched-monday",
   "metadata": {},
   "outputs": [
    {
     "data": {
      "text/plain": [
       "count    3171.000000\n",
       "mean        0.552604\n",
       "std         0.141911\n",
       "min         0.251391\n",
       "25%         0.470097\n",
       "50%         0.519144\n",
       "75%         0.579376\n",
       "max         1.000000\n",
       "Name: distinct_ratio, dtype: float64"
      ]
     },
     "execution_count": 185,
     "metadata": {},
     "output_type": "execute_result"
    }
   ],
   "source": [
    "distinct_ratio_df[distinct_ratio_df['label'] == \"REAL\"]['distinct_ratio'].describe()"
   ]
  },
  {
   "cell_type": "code",
   "execution_count": 186,
   "id": "cultural-disaster",
   "metadata": {},
   "outputs": [
    {
     "data": {
      "text/plain": [
       "count    3164.000000\n",
       "mean        0.577009\n",
       "std         0.133264\n",
       "min         0.190984\n",
       "25%         0.488807\n",
       "50%         0.559197\n",
       "75%         0.649799\n",
       "max         1.000000\n",
       "Name: distinct_ratio, dtype: float64"
      ]
     },
     "execution_count": 186,
     "metadata": {},
     "output_type": "execute_result"
    }
   ],
   "source": [
    "distinct_ratio_df[distinct_ratio_df['label'] == \"FAKE\"]['distinct_ratio'].describe()"
   ]
  },
  {
   "cell_type": "code",
   "execution_count": 188,
   "id": "southwest-angola",
   "metadata": {},
   "outputs": [
    {
     "data": {
      "image/png": "[encoded data removed]",
      "text/plain": [
       "<Figure size 864x576 with 1 Axes>"
      ]
     },
     "metadata": {
      "needs_background": "light"
     },
     "output_type": "display_data"
    }
   ],
   "source": [
    "bins = 100\n",
    "plt.figure(figsize=(12, 8))\n",
    "plt.hist(distinct_ratio_df[distinct_ratio_df['label'] == \"REAL\"]['distinct_ratio'], bins=bins, color=\"blue\")\n",
    "plt.xlabel('text word count')\n",
    "plt.ylabel('frequency')\n",
    "# plt.xlim(0, 10)\n",
    "plt.title('Text word Count Histogram')\n",
    "plt.grid(True)\n",
    "plt.show()"
   ]
  },
  {
   "cell_type": "markdown",
   "id": "tired-triumph",
   "metadata": {},
   "source": [
    "What does a ratio of 1 mean? There are 120 articles like this."
   ]
  },
  {
   "cell_type": "code",
   "execution_count": 190,
   "id": "primary-quarterly",
   "metadata": {},
   "outputs": [
    {
     "data": {
      "image/png": "[encoded data removed]",
      "text/plain": [
       "<Figure size 864x576 with 1 Axes>"
      ]
     },
     "metadata": {
      "needs_background": "light"
     },
     "output_type": "display_data"
    }
   ],
   "source": [
    "bins = 100\n",
    "plt.figure(figsize=(12, 8))\n",
    "plt.hist(distinct_ratio_df[distinct_ratio_df['label'] == \"FAKE\"]['distinct_ratio'], bins=bins, color=\"red\")\n",
    "plt.xlabel('text word count')\n",
    "plt.ylabel('frequency')\n",
    "# plt.xlim(0, 10)\n",
    "plt.title('Text word Count Histogram')\n",
    "plt.grid(True)\n",
    "plt.show()"
   ]
  },
  {
   "cell_type": "markdown",
   "id": "capital-feedback",
   "metadata": {},
   "source": [
    "## What about the character to word ratio between fake and real articles?"
   ]
  },
  {
   "cell_type": "code",
   "execution_count": 158,
   "id": "upper-confidentiality",
   "metadata": {},
   "outputs": [
    {
     "data": {
      "text/html": [
       "<div>\n",
       "<style scoped>\n",
       "    .dataframe tbody tr th:only-of-type {\n",
       "        vertical-align: middle;\n",
       "    }\n",
       "\n",
       "    .dataframe tbody tr th {\n",
       "        vertical-align: top;\n",
       "    }\n",
       "\n",
       "    .dataframe thead th {\n",
       "        text-align: right;\n",
       "    }\n",
       "</style>\n",
       "<table border=\"1\" class=\"dataframe\">\n",
       "  <thead>\n",
       "    <tr style=\"text-align: right;\">\n",
       "      <th></th>\n",
       "      <th>Unnamed: 0</th>\n",
       "      <th>title</th>\n",
       "      <th>text</th>\n",
       "      <th>label</th>\n",
       "      <th>text_len</th>\n",
       "      <th>text_cnt</th>\n",
       "      <th>char_to_word</th>\n",
       "    </tr>\n",
       "  </thead>\n",
       "  <tbody>\n",
       "    <tr>\n",
       "      <th>0</th>\n",
       "      <td>8476</td>\n",
       "      <td>You Can Smell Hillary’s Fear</td>\n",
       "      <td>Daniel Greenfield, a Shillman Journalism Fello...</td>\n",
       "      <td>FAKE</td>\n",
       "      <td>7518</td>\n",
       "      <td>1298</td>\n",
       "      <td>5.791988</td>\n",
       "    </tr>\n",
       "    <tr>\n",
       "      <th>1</th>\n",
       "      <td>10294</td>\n",
       "      <td>Watch The Exact Moment Paul Ryan Committed Pol...</td>\n",
       "      <td>Google Pinterest Digg Linkedin Reddit Stumbleu...</td>\n",
       "      <td>FAKE</td>\n",
       "      <td>2646</td>\n",
       "      <td>446</td>\n",
       "      <td>5.932735</td>\n",
       "    </tr>\n",
       "    <tr>\n",
       "      <th>2</th>\n",
       "      <td>3608</td>\n",
       "      <td>Kerry to go to Paris in gesture of sympathy</td>\n",
       "      <td>U.S. Secretary of State John F. Kerry said Mon...</td>\n",
       "      <td>REAL</td>\n",
       "      <td>2543</td>\n",
       "      <td>423</td>\n",
       "      <td>6.011820</td>\n",
       "    </tr>\n",
       "    <tr>\n",
       "      <th>3</th>\n",
       "      <td>10142</td>\n",
       "      <td>Bernie supporters on Twitter erupt in anger ag...</td>\n",
       "      <td>— Kaydee King (@KaydeeKing) November 9, 2016 T...</td>\n",
       "      <td>FAKE</td>\n",
       "      <td>2660</td>\n",
       "      <td>404</td>\n",
       "      <td>6.584158</td>\n",
       "    </tr>\n",
       "    <tr>\n",
       "      <th>4</th>\n",
       "      <td>875</td>\n",
       "      <td>The Battle of New York: Why This Primary Matters</td>\n",
       "      <td>It's primary day in New York and front-runners...</td>\n",
       "      <td>REAL</td>\n",
       "      <td>1840</td>\n",
       "      <td>307</td>\n",
       "      <td>5.993485</td>\n",
       "    </tr>\n",
       "    <tr>\n",
       "      <th>...</th>\n",
       "      <td>...</td>\n",
       "      <td>...</td>\n",
       "      <td>...</td>\n",
       "      <td>...</td>\n",
       "      <td>...</td>\n",
       "      <td>...</td>\n",
       "      <td>...</td>\n",
       "    </tr>\n",
       "    <tr>\n",
       "      <th>6330</th>\n",
       "      <td>4490</td>\n",
       "      <td>State Department says it can't find emails fro...</td>\n",
       "      <td>The State Department told the Republican Natio...</td>\n",
       "      <td>REAL</td>\n",
       "      <td>4076</td>\n",
       "      <td>629</td>\n",
       "      <td>6.480127</td>\n",
       "    </tr>\n",
       "    <tr>\n",
       "      <th>6331</th>\n",
       "      <td>8062</td>\n",
       "      <td>The ‘P’ in PBS Should Stand for ‘Plutocratic’ ...</td>\n",
       "      <td>The ‘P’ in PBS Should Stand for ‘Plutocratic’ ...</td>\n",
       "      <td>FAKE</td>\n",
       "      <td>14323</td>\n",
       "      <td>2183</td>\n",
       "      <td>6.561154</td>\n",
       "    </tr>\n",
       "    <tr>\n",
       "      <th>6332</th>\n",
       "      <td>8622</td>\n",
       "      <td>Anti-Trump Protesters Are Tools of the Oligarc...</td>\n",
       "      <td>Anti-Trump Protesters Are Tools of the Oligar...</td>\n",
       "      <td>FAKE</td>\n",
       "      <td>11974</td>\n",
       "      <td>1910</td>\n",
       "      <td>6.269110</td>\n",
       "    </tr>\n",
       "    <tr>\n",
       "      <th>6333</th>\n",
       "      <td>4021</td>\n",
       "      <td>In Ethiopia, Obama seeks progress on peace, se...</td>\n",
       "      <td>ADDIS ABABA, Ethiopia —President Obama convene...</td>\n",
       "      <td>REAL</td>\n",
       "      <td>6991</td>\n",
       "      <td>1093</td>\n",
       "      <td>6.396157</td>\n",
       "    </tr>\n",
       "    <tr>\n",
       "      <th>6334</th>\n",
       "      <td>4330</td>\n",
       "      <td>Jeb Bush Is Suddenly Attacking Trump. Here's W...</td>\n",
       "      <td>Jeb Bush Is Suddenly Attacking Trump. Here's W...</td>\n",
       "      <td>REAL</td>\n",
       "      <td>4818</td>\n",
       "      <td>801</td>\n",
       "      <td>6.014981</td>\n",
       "    </tr>\n",
       "  </tbody>\n",
       "</table>\n",
       "<p>6335 rows × 7 columns</p>\n",
       "</div>"
      ],
      "text/plain": [
       "      Unnamed: 0                                              title  \\\n",
       "0           8476                       You Can Smell Hillary’s Fear   \n",
       "1          10294  Watch The Exact Moment Paul Ryan Committed Pol...   \n",
       "2           3608        Kerry to go to Paris in gesture of sympathy   \n",
       "3          10142  Bernie supporters on Twitter erupt in anger ag...   \n",
       "4            875   The Battle of New York: Why This Primary Matters   \n",
       "...          ...                                                ...   \n",
       "6330        4490  State Department says it can't find emails fro...   \n",
       "6331        8062  The ‘P’ in PBS Should Stand for ‘Plutocratic’ ...   \n",
       "6332        8622  Anti-Trump Protesters Are Tools of the Oligarc...   \n",
       "6333        4021  In Ethiopia, Obama seeks progress on peace, se...   \n",
       "6334        4330  Jeb Bush Is Suddenly Attacking Trump. Here's W...   \n",
       "\n",
       "                                                   text label  text_len  \\\n",
       "0     Daniel Greenfield, a Shillman Journalism Fello...  FAKE      7518   \n",
       "1     Google Pinterest Digg Linkedin Reddit Stumbleu...  FAKE      2646   \n",
       "2     U.S. Secretary of State John F. Kerry said Mon...  REAL      2543   \n",
       "3     — Kaydee King (@KaydeeKing) November 9, 2016 T...  FAKE      2660   \n",
       "4     It's primary day in New York and front-runners...  REAL      1840   \n",
       "...                                                 ...   ...       ...   \n",
       "6330  The State Department told the Republican Natio...  REAL      4076   \n",
       "6331  The ‘P’ in PBS Should Stand for ‘Plutocratic’ ...  FAKE     14323   \n",
       "6332   Anti-Trump Protesters Are Tools of the Oligar...  FAKE     11974   \n",
       "6333  ADDIS ABABA, Ethiopia —President Obama convene...  REAL      6991   \n",
       "6334  Jeb Bush Is Suddenly Attacking Trump. Here's W...  REAL      4818   \n",
       "\n",
       "      text_cnt  char_to_word  \n",
       "0         1298      5.791988  \n",
       "1          446      5.932735  \n",
       "2          423      6.011820  \n",
       "3          404      6.584158  \n",
       "4          307      5.993485  \n",
       "...        ...           ...  \n",
       "6330       629      6.480127  \n",
       "6331      2183      6.561154  \n",
       "6332      1910      6.269110  \n",
       "6333      1093      6.396157  \n",
       "6334       801      6.014981  \n",
       "\n",
       "[6335 rows x 7 columns]"
      ]
     },
     "execution_count": 158,
     "metadata": {},
     "output_type": "execute_result"
    }
   ],
   "source": [
    "ratio_df = df\n",
    "ratio_df['char_to_word'] = ratio_df['text_len'] / ratio_df['text_cnt']\n",
    "ratio_df"
   ]
  },
  {
   "cell_type": "code",
   "execution_count": 155,
   "id": "excited-transformation",
   "metadata": {},
   "outputs": [
    {
     "data": {
      "text/plain": [
       "count    6335.000000\n",
       "mean        6.132453\n",
       "std         0.843677\n",
       "min         0.500000\n",
       "25%         5.947837\n",
       "50%         6.153846\n",
       "75%         6.340880\n",
       "max        49.496000\n",
       "Name: char_to_word, dtype: float64"
      ]
     },
     "execution_count": 155,
     "metadata": {},
     "output_type": "execute_result"
    }
   ],
   "source": [
    "ratio_df['char_to_word'].describe()"
   ]
  },
  {
   "cell_type": "code",
   "execution_count": 153,
   "id": "involved-clothing",
   "metadata": {},
   "outputs": [
    {
     "data": {
      "text/plain": [
       "count    3171.000000\n",
       "mean        6.228743\n",
       "std         0.306222\n",
       "min         4.640000\n",
       "25%         6.067430\n",
       "50%         6.229993\n",
       "75%         6.395342\n",
       "max         7.527711\n",
       "Name: char_to_word, dtype: float64"
      ]
     },
     "execution_count": 153,
     "metadata": {},
     "output_type": "execute_result"
    }
   ],
   "source": [
    "ratio_df[ratio_df['label'] == \"REAL\"]['char_to_word'].describe()"
   ]
  },
  {
   "cell_type": "code",
   "execution_count": 154,
   "id": "violent-exemption",
   "metadata": {},
   "outputs": [
    {
     "data": {
      "text/plain": [
       "count    3164.000000\n",
       "mean        6.035950\n",
       "std         1.145771\n",
       "min         0.500000\n",
       "25%         5.834852\n",
       "50%         6.055629\n",
       "75%         6.264377\n",
       "max        49.496000\n",
       "Name: char_to_word, dtype: float64"
      ]
     },
     "execution_count": 154,
     "metadata": {},
     "output_type": "execute_result"
    }
   ],
   "source": [
    "ratio_df[ratio_df['label'] == \"FAKE\"]['char_to_word'].describe()"
   ]
  },
  {
   "cell_type": "code",
   "execution_count": 145,
   "id": "ordered-interval",
   "metadata": {},
   "outputs": [
    {
     "data": {
      "image/png": "[encoded data removed]",
      "text/plain": [
       "<Figure size 864x576 with 1 Axes>"
      ]
     },
     "metadata": {
      "needs_background": "light"
     },
     "output_type": "display_data"
    }
   ],
   "source": [
    "bins = 100\n",
    "plt.figure(figsize=(12, 8))\n",
    "plt.hist(ratio_df[ratio_df['label'] == \"REAL\"]['char_to_word'], bins=bins, color=\"blue\")\n",
    "plt.xlabel('text word count')\n",
    "plt.ylabel('frequency')\n",
    "plt.xlim(0, 10)\n",
    "plt.title('Text word Count Histogram')\n",
    "plt.grid(True)\n",
    "plt.show()"
   ]
  },
  {
   "cell_type": "code",
   "execution_count": 147,
   "id": "according-preservation",
   "metadata": {},
   "outputs": [
    {
     "data": {
      "image/png": "[encoded data removed]",
      "text/plain": [
       "<Figure size 864x576 with 1 Axes>"
      ]
     },
     "metadata": {
      "needs_background": "light"
     },
     "output_type": "display_data"
    }
   ],
   "source": [
    "bins = 100\n",
    "plt.figure(figsize=(12, 8))\n",
    "plt.hist(ratio_df[ratio_df['label'] == \"FAKE\"]['char_to_word'], bins=bins, color=\"red\")\n",
    "plt.xlabel('text word count')\n",
    "plt.ylabel('frequency')\n",
    "plt.title('Text word Count Histogram')\n",
    "plt.grid(True)\n",
    "plt.show()"
   ]
  },
  {
   "cell_type": "code",
   "execution_count": 148,
   "id": "naval-taylor",
   "metadata": {},
   "outputs": [
    {
     "name": "stderr",
     "output_type": "stream",
     "text": [
      "/Users/turbo/projects/fake_news_analysis/.venv/lib/python3.6/site-packages/ipykernel_launcher.py:3: UserWarning: Boolean Series key will be reindexed to match DataFrame index.\n",
      "  This is separate from the ipykernel package so we can avoid doing imports until\n"
     ]
    },
    {
     "data": {
      "image/png": "[encoded data removed]",
      "text/plain": [
       "<Figure size 864x576 with 1 Axes>"
      ]
     },
     "metadata": {
      "needs_background": "light"
     },
     "output_type": "display_data"
    }
   ],
   "source": [
    "bins = 100\n",
    "plt.figure(figsize=(12, 8))\n",
    "plt.hist(ratio_df[ratio_df['label'] == \"FAKE\"][ratio_df['char_to_word'] <= 8]['char_to_word'], bins=bins, color=\"red\")\n",
    "plt.xlabel('text word count')\n",
    "plt.ylabel('frequency')\n",
    "plt.xlim(0, 10)\n",
    "plt.title('Text word Count Histogram')\n",
    "plt.grid(True)\n",
    "plt.show()"
   ]
  },
  {
   "cell_type": "markdown",
   "id": "heard-profile",
   "metadata": {},
   "source": [
    "# Stop Words \n",
    "\n",
    "also 1 letter words\n",
    "\n",
    "NLTK: natural language toolkit: https://www.nltk.org/data.html#command-line-installation"
   ]
  },
  {
   "cell_type": "code",
   "execution_count": 199,
   "id": "satellite-butler",
   "metadata": {},
   "outputs": [
    {
     "data": {
      "text/plain": [
       "['i',\n",
       " 'me',\n",
       " 'my',\n",
       " 'myself',\n",
       " 'we',\n",
       " 'our',\n",
       " 'ours',\n",
       " 'ourselves',\n",
       " 'you',\n",
       " \"you're\",\n",
       " \"you've\",\n",
       " \"you'll\",\n",
       " \"you'd\",\n",
       " 'your',\n",
       " 'yours',\n",
       " 'yourself',\n",
       " 'yourselves',\n",
       " 'he',\n",
       " 'him',\n",
       " 'his',\n",
       " 'himself',\n",
       " 'she',\n",
       " \"she's\",\n",
       " 'her',\n",
       " 'hers',\n",
       " 'herself',\n",
       " 'it',\n",
       " \"it's\",\n",
       " 'its',\n",
       " 'itself',\n",
       " 'they',\n",
       " 'them',\n",
       " 'their',\n",
       " 'theirs',\n",
       " 'themselves',\n",
       " 'what',\n",
       " 'which',\n",
       " 'who',\n",
       " 'whom',\n",
       " 'this',\n",
       " 'that',\n",
       " \"that'll\",\n",
       " 'these',\n",
       " 'those',\n",
       " 'am',\n",
       " 'is',\n",
       " 'are',\n",
       " 'was',\n",
       " 'were',\n",
       " 'be',\n",
       " 'been',\n",
       " 'being',\n",
       " 'have',\n",
       " 'has',\n",
       " 'had',\n",
       " 'having',\n",
       " 'do',\n",
       " 'does',\n",
       " 'did',\n",
       " 'doing',\n",
       " 'a',\n",
       " 'an',\n",
       " 'the',\n",
       " 'and',\n",
       " 'but',\n",
       " 'if',\n",
       " 'or',\n",
       " 'because',\n",
       " 'as',\n",
       " 'until',\n",
       " 'while',\n",
       " 'of',\n",
       " 'at',\n",
       " 'by',\n",
       " 'for',\n",
       " 'with',\n",
       " 'about',\n",
       " 'against',\n",
       " 'between',\n",
       " 'into',\n",
       " 'through',\n",
       " 'during',\n",
       " 'before',\n",
       " 'after',\n",
       " 'above',\n",
       " 'below',\n",
       " 'to',\n",
       " 'from',\n",
       " 'up',\n",
       " 'down',\n",
       " 'in',\n",
       " 'out',\n",
       " 'on',\n",
       " 'off',\n",
       " 'over',\n",
       " 'under',\n",
       " 'again',\n",
       " 'further',\n",
       " 'then',\n",
       " 'once',\n",
       " 'here',\n",
       " 'there',\n",
       " 'when',\n",
       " 'where',\n",
       " 'why',\n",
       " 'how',\n",
       " 'all',\n",
       " 'any',\n",
       " 'both',\n",
       " 'each',\n",
       " 'few',\n",
       " 'more',\n",
       " 'most',\n",
       " 'other',\n",
       " 'some',\n",
       " 'such',\n",
       " 'no',\n",
       " 'nor',\n",
       " 'not',\n",
       " 'only',\n",
       " 'own',\n",
       " 'same',\n",
       " 'so',\n",
       " 'than',\n",
       " 'too',\n",
       " 'very',\n",
       " 's',\n",
       " 't',\n",
       " 'can',\n",
       " 'will',\n",
       " 'just',\n",
       " 'don',\n",
       " \"don't\",\n",
       " 'should',\n",
       " \"should've\",\n",
       " 'now',\n",
       " 'd',\n",
       " 'll',\n",
       " 'm',\n",
       " 'o',\n",
       " 're',\n",
       " 've',\n",
       " 'y',\n",
       " 'ain',\n",
       " 'aren',\n",
       " \"aren't\",\n",
       " 'couldn',\n",
       " \"couldn't\",\n",
       " 'didn',\n",
       " \"didn't\",\n",
       " 'doesn',\n",
       " \"doesn't\",\n",
       " 'hadn',\n",
       " \"hadn't\",\n",
       " 'hasn',\n",
       " \"hasn't\",\n",
       " 'haven',\n",
       " \"haven't\",\n",
       " 'isn',\n",
       " \"isn't\",\n",
       " 'ma',\n",
       " 'mightn',\n",
       " \"mightn't\",\n",
       " 'mustn',\n",
       " \"mustn't\",\n",
       " 'needn',\n",
       " \"needn't\",\n",
       " 'shan',\n",
       " \"shan't\",\n",
       " 'shouldn',\n",
       " \"shouldn't\",\n",
       " 'wasn',\n",
       " \"wasn't\",\n",
       " 'weren',\n",
       " \"weren't\",\n",
       " 'won',\n",
       " \"won't\",\n",
       " 'wouldn',\n",
       " \"wouldn't\"]"
      ]
     },
     "execution_count": 199,
     "metadata": {},
     "output_type": "execute_result"
    }
   ],
   "source": [
    "# to install the natural language toolkip\n",
    "# $ pip install nltk\n",
    "\n",
    "# to install the \"stopwords\" resource\n",
    "# $ python -m nltk.downloader stopwords\n",
    "\n",
    "from nltk.corpus import stopwords\n",
    "stop = stopwords.words('english')\n",
    "stop"
   ]
  },
  {
   "cell_type": "code",
   "execution_count": null,
   "id": "attractive-november",
   "metadata": {},
   "outputs": [],
   "source": []
  }
 ],
 "metadata": {
  "kernelspec": {
   "display_name": "Python 3",
   "language": "python",
   "name": "python3"
  },
  "language_info": {
   "codemirror_mode": {
    "name": "ipython",
    "version": 3
   },
   "file_extension": ".py",
   "mimetype": "text/x-python",
   "name": "python",
   "nbconvert_exporter": "python",
   "pygments_lexer": "ipython3",
   "version": "3.6.8"
  }
 },
 "nbformat": 4,
 "nbformat_minor": 5
}
